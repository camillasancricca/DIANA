{
 "cells": [
  {
   "cell_type": "code",
   "execution_count": 1,
   "metadata": {
    "collapsed": true
   },
   "outputs": [],
   "source": [
    "import pandas as pd\n",
    "import numpy"
   ]
  },
  {
   "cell_type": "code",
   "execution_count": 2,
   "outputs": [
    {
     "data": {
      "text/plain": "               temp       dew_pnt  sea_lvl_press    visibility  avg_wind_spd  \\\ncount  18159.000000  18159.000000   18159.000000  18159.000000  18159.000000   \nmean      51.006124     39.737849    1016.762404     11.655036      7.015094   \nstd       21.147466     20.080543      47.697233      3.941030      3.656144   \nmin      -11.700000    -25.700000     980.200000      0.100000      0.100000   \n25%       34.600000     25.300000    1011.400000      9.300000      4.400000   \n50%       53.000000     39.700000    1015.900000     11.400000      6.400000   \n75%       69.600000     57.450000    1020.800000     14.500000      9.000000   \nmax       92.500000     77.600000    5503.800000     24.900000     28.000000   \n\n       max_sustained_wind_spd      max_temp      min_temp          rain  \ncount            18159.000000  18159.000000  18159.000000  18159.000000  \nmean                14.022432     62.033149     42.468704      0.313784  \nstd                  5.321651     22.181360     20.442788      0.464042  \nmin                  1.900000     -8.900000    -22.000000      0.000000  \n25%                 10.100000     44.100000     28.000000      0.000000  \n50%                 13.000000     64.900000     43.000000      0.000000  \n75%                 17.100000     81.000000     60.100000      1.000000  \nmax                 49.000000    109.000000     82.900000      1.000000  ",
      "text/html": "<div>\n<style scoped>\n    .dataframe tbody tr th:only-of-type {\n        vertical-align: middle;\n    }\n\n    .dataframe tbody tr th {\n        vertical-align: top;\n    }\n\n    .dataframe thead th {\n        text-align: right;\n    }\n</style>\n<table border=\"1\" class=\"dataframe\">\n  <thead>\n    <tr style=\"text-align: right;\">\n      <th></th>\n      <th>temp</th>\n      <th>dew_pnt</th>\n      <th>sea_lvl_press</th>\n      <th>visibility</th>\n      <th>avg_wind_spd</th>\n      <th>max_sustained_wind_spd</th>\n      <th>max_temp</th>\n      <th>min_temp</th>\n      <th>rain</th>\n    </tr>\n  </thead>\n  <tbody>\n    <tr>\n      <th>count</th>\n      <td>18159.000000</td>\n      <td>18159.000000</td>\n      <td>18159.000000</td>\n      <td>18159.000000</td>\n      <td>18159.000000</td>\n      <td>18159.000000</td>\n      <td>18159.000000</td>\n      <td>18159.000000</td>\n      <td>18159.000000</td>\n    </tr>\n    <tr>\n      <th>mean</th>\n      <td>51.006124</td>\n      <td>39.737849</td>\n      <td>1016.762404</td>\n      <td>11.655036</td>\n      <td>7.015094</td>\n      <td>14.022432</td>\n      <td>62.033149</td>\n      <td>42.468704</td>\n      <td>0.313784</td>\n    </tr>\n    <tr>\n      <th>std</th>\n      <td>21.147466</td>\n      <td>20.080543</td>\n      <td>47.697233</td>\n      <td>3.941030</td>\n      <td>3.656144</td>\n      <td>5.321651</td>\n      <td>22.181360</td>\n      <td>20.442788</td>\n      <td>0.464042</td>\n    </tr>\n    <tr>\n      <th>min</th>\n      <td>-11.700000</td>\n      <td>-25.700000</td>\n      <td>980.200000</td>\n      <td>0.100000</td>\n      <td>0.100000</td>\n      <td>1.900000</td>\n      <td>-8.900000</td>\n      <td>-22.000000</td>\n      <td>0.000000</td>\n    </tr>\n    <tr>\n      <th>25%</th>\n      <td>34.600000</td>\n      <td>25.300000</td>\n      <td>1011.400000</td>\n      <td>9.300000</td>\n      <td>4.400000</td>\n      <td>10.100000</td>\n      <td>44.100000</td>\n      <td>28.000000</td>\n      <td>0.000000</td>\n    </tr>\n    <tr>\n      <th>50%</th>\n      <td>53.000000</td>\n      <td>39.700000</td>\n      <td>1015.900000</td>\n      <td>11.400000</td>\n      <td>6.400000</td>\n      <td>13.000000</td>\n      <td>64.900000</td>\n      <td>43.000000</td>\n      <td>0.000000</td>\n    </tr>\n    <tr>\n      <th>75%</th>\n      <td>69.600000</td>\n      <td>57.450000</td>\n      <td>1020.800000</td>\n      <td>14.500000</td>\n      <td>9.000000</td>\n      <td>17.100000</td>\n      <td>81.000000</td>\n      <td>60.100000</td>\n      <td>1.000000</td>\n    </tr>\n    <tr>\n      <th>max</th>\n      <td>92.500000</td>\n      <td>77.600000</td>\n      <td>5503.800000</td>\n      <td>24.900000</td>\n      <td>28.000000</td>\n      <td>49.000000</td>\n      <td>109.000000</td>\n      <td>82.900000</td>\n      <td>1.000000</td>\n    </tr>\n  </tbody>\n</table>\n</div>"
     },
     "execution_count": 2,
     "metadata": {},
     "output_type": "execute_result"
    }
   ],
   "source": [
    "df = pd.read_csv(\"../../Datasets/NEweather.csv\")\n",
    "df.describe()"
   ],
   "metadata": {
    "collapsed": false,
    "pycharm": {
     "name": "#%%\n"
    }
   }
  },
  {
   "cell_type": "code",
   "execution_count": 3,
   "outputs": [
    {
     "data": {
      "text/plain": "              PM2.5          PM10           SO2           NO2            CO  \\\ncount  70128.000000  70128.000000  70128.000000  70128.000000  70128.000000   \nmean      82.215945    107.958224     17.045957     56.512363   1295.336492   \nstd       76.534752     86.759615     20.373859     34.998033   1041.012534   \nmin        2.000000      2.000000      0.285600      2.000000    100.000000   \n25%       22.000000     38.000000      3.000000     29.000000    600.000000   \n50%       59.000000     88.000000      8.000000     50.000000   1000.000000   \n75%      116.000000    151.000000     22.000000     79.000000   1700.000000   \nmax      343.000000    400.000000     90.000000    165.000000   5000.000000   \n\n                 O3          TEMP          PRES          DEWP          RAIN  \\\ncount  70128.000000  70128.000000  70128.000000  70128.000000  70128.000000   \nmean      56.272245     13.725086   1012.034059      2.575349      0.024750   \nstd       55.258520     11.422969     10.432731     13.759141      0.172066   \nmin        0.214200    -16.800000    985.100000    -35.300000      0.000000   \n25%        9.000000      3.300000   1003.400000     -8.600000      0.000000   \n50%       43.000000     14.700000   1011.600000      3.200000      0.000000   \n75%       83.000000     23.500000   1020.500000     15.100000      0.000000   \nmax      230.000000     41.100000   1042.000000     28.800000      2.400000   \n\n                 wd          WSPM       station  \ncount  70128.000000  70128.000000  70128.000000  \nmean       8.125891      1.763818      0.500000  \nstd        4.536581      1.128674      0.500004  \nmin        1.000000      0.000000      0.000000  \n25%        4.000000      1.000000      0.000000  \n50%        8.000000      1.500000      0.500000  \n75%       12.000000      2.300000      1.000000  \nmax       16.000000      5.500000      1.000000  ",
      "text/html": "<div>\n<style scoped>\n    .dataframe tbody tr th:only-of-type {\n        vertical-align: middle;\n    }\n\n    .dataframe tbody tr th {\n        vertical-align: top;\n    }\n\n    .dataframe thead th {\n        text-align: right;\n    }\n</style>\n<table border=\"1\" class=\"dataframe\">\n  <thead>\n    <tr style=\"text-align: right;\">\n      <th></th>\n      <th>PM2.5</th>\n      <th>PM10</th>\n      <th>SO2</th>\n      <th>NO2</th>\n      <th>CO</th>\n      <th>O3</th>\n      <th>TEMP</th>\n      <th>PRES</th>\n      <th>DEWP</th>\n      <th>RAIN</th>\n      <th>wd</th>\n      <th>WSPM</th>\n      <th>station</th>\n    </tr>\n  </thead>\n  <tbody>\n    <tr>\n      <th>count</th>\n      <td>70128.000000</td>\n      <td>70128.000000</td>\n      <td>70128.000000</td>\n      <td>70128.000000</td>\n      <td>70128.000000</td>\n      <td>70128.000000</td>\n      <td>70128.000000</td>\n      <td>70128.000000</td>\n      <td>70128.000000</td>\n      <td>70128.000000</td>\n      <td>70128.000000</td>\n      <td>70128.000000</td>\n      <td>70128.000000</td>\n    </tr>\n    <tr>\n      <th>mean</th>\n      <td>82.215945</td>\n      <td>107.958224</td>\n      <td>17.045957</td>\n      <td>56.512363</td>\n      <td>1295.336492</td>\n      <td>56.272245</td>\n      <td>13.725086</td>\n      <td>1012.034059</td>\n      <td>2.575349</td>\n      <td>0.024750</td>\n      <td>8.125891</td>\n      <td>1.763818</td>\n      <td>0.500000</td>\n    </tr>\n    <tr>\n      <th>std</th>\n      <td>76.534752</td>\n      <td>86.759615</td>\n      <td>20.373859</td>\n      <td>34.998033</td>\n      <td>1041.012534</td>\n      <td>55.258520</td>\n      <td>11.422969</td>\n      <td>10.432731</td>\n      <td>13.759141</td>\n      <td>0.172066</td>\n      <td>4.536581</td>\n      <td>1.128674</td>\n      <td>0.500004</td>\n    </tr>\n    <tr>\n      <th>min</th>\n      <td>2.000000</td>\n      <td>2.000000</td>\n      <td>0.285600</td>\n      <td>2.000000</td>\n      <td>100.000000</td>\n      <td>0.214200</td>\n      <td>-16.800000</td>\n      <td>985.100000</td>\n      <td>-35.300000</td>\n      <td>0.000000</td>\n      <td>1.000000</td>\n      <td>0.000000</td>\n      <td>0.000000</td>\n    </tr>\n    <tr>\n      <th>25%</th>\n      <td>22.000000</td>\n      <td>38.000000</td>\n      <td>3.000000</td>\n      <td>29.000000</td>\n      <td>600.000000</td>\n      <td>9.000000</td>\n      <td>3.300000</td>\n      <td>1003.400000</td>\n      <td>-8.600000</td>\n      <td>0.000000</td>\n      <td>4.000000</td>\n      <td>1.000000</td>\n      <td>0.000000</td>\n    </tr>\n    <tr>\n      <th>50%</th>\n      <td>59.000000</td>\n      <td>88.000000</td>\n      <td>8.000000</td>\n      <td>50.000000</td>\n      <td>1000.000000</td>\n      <td>43.000000</td>\n      <td>14.700000</td>\n      <td>1011.600000</td>\n      <td>3.200000</td>\n      <td>0.000000</td>\n      <td>8.000000</td>\n      <td>1.500000</td>\n      <td>0.500000</td>\n    </tr>\n    <tr>\n      <th>75%</th>\n      <td>116.000000</td>\n      <td>151.000000</td>\n      <td>22.000000</td>\n      <td>79.000000</td>\n      <td>1700.000000</td>\n      <td>83.000000</td>\n      <td>23.500000</td>\n      <td>1020.500000</td>\n      <td>15.100000</td>\n      <td>0.000000</td>\n      <td>12.000000</td>\n      <td>2.300000</td>\n      <td>1.000000</td>\n    </tr>\n    <tr>\n      <th>max</th>\n      <td>343.000000</td>\n      <td>400.000000</td>\n      <td>90.000000</td>\n      <td>165.000000</td>\n      <td>5000.000000</td>\n      <td>230.000000</td>\n      <td>41.100000</td>\n      <td>1042.000000</td>\n      <td>28.800000</td>\n      <td>2.400000</td>\n      <td>16.000000</td>\n      <td>5.500000</td>\n      <td>1.000000</td>\n    </tr>\n  </tbody>\n</table>\n</div>"
     },
     "execution_count": 3,
     "metadata": {},
     "output_type": "execute_result"
    }
   ],
   "source": [
    "df = pd.read_csv(\"../../Datasets/PRSA_Data_imputed.csv\")\n",
    "df.describe()"
   ],
   "metadata": {
    "collapsed": false,
    "pycharm": {
     "name": "#%%\n"
    }
   }
  },
  {
   "cell_type": "code",
   "execution_count": null,
   "outputs": [],
   "source": [],
   "metadata": {
    "collapsed": false,
    "pycharm": {
     "name": "#%%\n"
    }
   }
  }
 ],
 "metadata": {
  "kernelspec": {
   "display_name": "Python 3",
   "language": "python",
   "name": "python3"
  },
  "language_info": {
   "codemirror_mode": {
    "name": "ipython",
    "version": 2
   },
   "file_extension": ".py",
   "mimetype": "text/x-python",
   "name": "python",
   "nbconvert_exporter": "python",
   "pygments_lexer": "ipython2",
   "version": "2.7.6"
  }
 },
 "nbformat": 4,
 "nbformat_minor": 0
}
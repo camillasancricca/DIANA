{
 "cells": [
  {
   "cell_type": "code",
   "execution_count": 4,
   "metadata": {
    "collapsed": true
   },
   "outputs": [],
   "source": [
    "import pandas as pd\n",
    "import matplotlib.pyplot as plt\n",
    "import numpy"
   ]
  },
  {
   "cell_type": "code",
   "execution_count": 5,
   "outputs": [],
   "source": [
    "path = \"../../Risultati/Air_Quality/rf_regression.csv\"\n",
    "df = pd.read_csv(path)\n",
    "df.head()\n",
    "df.reset_index(drop=True)\n",
    "df['percentage'] = 100 - df['percentage']\n"
   ],
   "metadata": {
    "collapsed": false,
    "pycharm": {
     "name": "#%%\n"
    }
   }
  },
  {
   "cell_type": "code",
   "execution_count": 6,
   "outputs": [
    {
     "name": "stdout",
     "output_type": "stream",
     "text": [
      "     percentage  outlier     imputation        r2\n",
      "0           100     none           none  0.963025\n",
      "1            90     none           none  0.945333\n",
      "2            90        z           drop  0.946542\n",
      "3            90        z           LOCF  0.943909\n",
      "4            90        z           mean  0.930094\n",
      "..          ...      ...            ...       ...\n",
      "251          50  iforest  interpolation  0.906194\n",
      "252          50      hst           drop  0.912754\n",
      "253          50      hst           LOCF  0.836538\n",
      "254          50      hst           mean  0.760815\n",
      "255          50      hst  interpolation  0.830577\n",
      "\n",
      "[256 rows x 4 columns]\n"
     ]
    }
   ],
   "source": [
    "print(df)"
   ],
   "metadata": {
    "collapsed": false,
    "pycharm": {
     "name": "#%%\n"
    }
   }
  },
  {
   "cell_type": "code",
   "execution_count": 7,
   "outputs": [
    {
     "data": {
      "text/plain": "Empty DataFrame\nColumns: [percentage, outlier, imputation, r2]\nIndex: []",
      "text/html": "<div>\n<style scoped>\n    .dataframe tbody tr th:only-of-type {\n        vertical-align: middle;\n    }\n\n    .dataframe tbody tr th {\n        vertical-align: top;\n    }\n\n    .dataframe thead th {\n        text-align: right;\n    }\n</style>\n<table border=\"1\" class=\"dataframe\">\n  <thead>\n    <tr style=\"text-align: right;\">\n      <th></th>\n      <th>percentage</th>\n      <th>outlier</th>\n      <th>imputation</th>\n      <th>r2</th>\n    </tr>\n  </thead>\n  <tbody>\n  </tbody>\n</table>\n</div>"
     },
     "execution_count": 7,
     "metadata": {},
     "output_type": "execute_result"
    }
   ],
   "source": [
    "df_neg = df[df['r2']<0]\n",
    "df_neg"
   ],
   "metadata": {
    "collapsed": false,
    "pycharm": {
     "name": "#%%\n"
    }
   }
  },
  {
   "cell_type": "code",
   "execution_count": 8,
   "outputs": [],
   "source": [
    "df.loc[df['r2'] < 0, 'r2'] = 0"
   ],
   "metadata": {
    "collapsed": false,
    "pycharm": {
     "name": "#%%\n"
    }
   }
  },
  {
   "cell_type": "code",
   "execution_count": 9,
   "outputs": [
    {
     "data": {
      "text/plain": "     percentage  outlier     imputation        r2\n0           100     none           none  0.963025\n1            90     none           none  0.945333\n2            90        z           drop  0.946542\n3            90        z           LOCF  0.943909\n4            90        z           mean  0.930094\n..          ...      ...            ...       ...\n251          50  iforest  interpolation  0.906194\n252          50      hst           drop  0.912754\n253          50      hst           LOCF  0.836538\n254          50      hst           mean  0.760815\n255          50      hst  interpolation  0.830577\n\n[256 rows x 4 columns]",
      "text/html": "<div>\n<style scoped>\n    .dataframe tbody tr th:only-of-type {\n        vertical-align: middle;\n    }\n\n    .dataframe tbody tr th {\n        vertical-align: top;\n    }\n\n    .dataframe thead th {\n        text-align: right;\n    }\n</style>\n<table border=\"1\" class=\"dataframe\">\n  <thead>\n    <tr style=\"text-align: right;\">\n      <th></th>\n      <th>percentage</th>\n      <th>outlier</th>\n      <th>imputation</th>\n      <th>r2</th>\n    </tr>\n  </thead>\n  <tbody>\n    <tr>\n      <th>0</th>\n      <td>100</td>\n      <td>none</td>\n      <td>none</td>\n      <td>0.963025</td>\n    </tr>\n    <tr>\n      <th>1</th>\n      <td>90</td>\n      <td>none</td>\n      <td>none</td>\n      <td>0.945333</td>\n    </tr>\n    <tr>\n      <th>2</th>\n      <td>90</td>\n      <td>z</td>\n      <td>drop</td>\n      <td>0.946542</td>\n    </tr>\n    <tr>\n      <th>3</th>\n      <td>90</td>\n      <td>z</td>\n      <td>LOCF</td>\n      <td>0.943909</td>\n    </tr>\n    <tr>\n      <th>4</th>\n      <td>90</td>\n      <td>z</td>\n      <td>mean</td>\n      <td>0.930094</td>\n    </tr>\n    <tr>\n      <th>...</th>\n      <td>...</td>\n      <td>...</td>\n      <td>...</td>\n      <td>...</td>\n    </tr>\n    <tr>\n      <th>251</th>\n      <td>50</td>\n      <td>iforest</td>\n      <td>interpolation</td>\n      <td>0.906194</td>\n    </tr>\n    <tr>\n      <th>252</th>\n      <td>50</td>\n      <td>hst</td>\n      <td>drop</td>\n      <td>0.912754</td>\n    </tr>\n    <tr>\n      <th>253</th>\n      <td>50</td>\n      <td>hst</td>\n      <td>LOCF</td>\n      <td>0.836538</td>\n    </tr>\n    <tr>\n      <th>254</th>\n      <td>50</td>\n      <td>hst</td>\n      <td>mean</td>\n      <td>0.760815</td>\n    </tr>\n    <tr>\n      <th>255</th>\n      <td>50</td>\n      <td>hst</td>\n      <td>interpolation</td>\n      <td>0.830577</td>\n    </tr>\n  </tbody>\n</table>\n<p>256 rows × 4 columns</p>\n</div>"
     },
     "execution_count": 9,
     "metadata": {},
     "output_type": "execute_result"
    }
   ],
   "source": [
    "df"
   ],
   "metadata": {
    "collapsed": false,
    "pycharm": {
     "name": "#%%\n"
    }
   }
  },
  {
   "cell_type": "code",
   "execution_count": 10,
   "outputs": [
    {
     "name": "stdout",
     "output_type": "stream",
     "text": [
      "                       percentage        r2\n",
      "outlier imputation                         \n",
      "lof     drop            70.000000  0.957542\n",
      "        LOCF            70.000000  0.941321\n",
      "        interpolation   70.000000  0.938049\n",
      "iforest drop            70.000000  0.936372\n",
      "none    none            74.705882  0.934440\n",
      "z       LOCF            70.000000  0.927709\n",
      "        interpolation   70.000000  0.927388\n",
      "        drop            70.000000  0.927238\n",
      "hst     drop            70.000000  0.926929\n",
      "z       mean            70.000000  0.905435\n",
      "hst     LOCF            68.571429  0.881869\n",
      "        interpolation   70.000000  0.877579\n",
      "iforest LOCF            70.000000  0.867799\n",
      "        interpolation   70.000000  0.866871\n",
      "hst     mean            70.000000  0.817378\n",
      "lof     mean            70.000000  0.785595\n",
      "iforest mean            70.000000  0.648577\n"
     ]
    }
   ],
   "source": [
    "df_grouped = df.groupby(['outlier','imputation']).mean().sort_values(by='r2', ascending=False)\n",
    "print(df_grouped)"
   ],
   "metadata": {
    "collapsed": false,
    "pycharm": {
     "name": "#%%\n"
    }
   }
  },
  {
   "cell_type": "code",
   "execution_count": 11,
   "outputs": [
    {
     "data": {
      "text/plain": "   percentage        r2\n0          50  0.914922\n1          60  0.921243\n2          70  0.927089\n3          80  0.935079\n4          90  0.945532\n5         100  0.962985",
      "text/html": "<div>\n<style scoped>\n    .dataframe tbody tr th:only-of-type {\n        vertical-align: middle;\n    }\n\n    .dataframe tbody tr th {\n        vertical-align: top;\n    }\n\n    .dataframe thead th {\n        text-align: right;\n    }\n</style>\n<table border=\"1\" class=\"dataframe\">\n  <thead>\n    <tr style=\"text-align: right;\">\n      <th></th>\n      <th>percentage</th>\n      <th>r2</th>\n    </tr>\n  </thead>\n  <tbody>\n    <tr>\n      <th>0</th>\n      <td>50</td>\n      <td>0.914922</td>\n    </tr>\n    <tr>\n      <th>1</th>\n      <td>60</td>\n      <td>0.921243</td>\n    </tr>\n    <tr>\n      <th>2</th>\n      <td>70</td>\n      <td>0.927089</td>\n    </tr>\n    <tr>\n      <th>3</th>\n      <td>80</td>\n      <td>0.935079</td>\n    </tr>\n    <tr>\n      <th>4</th>\n      <td>90</td>\n      <td>0.945532</td>\n    </tr>\n    <tr>\n      <th>5</th>\n      <td>100</td>\n      <td>0.962985</td>\n    </tr>\n  </tbody>\n</table>\n</div>"
     },
     "execution_count": 11,
     "metadata": {},
     "output_type": "execute_result"
    }
   ],
   "source": [
    "df_none = df[(df['outlier'] == 'none')].groupby(['percentage']).mean(numeric_only=True).reset_index()\n",
    "df_none"
   ],
   "metadata": {
    "collapsed": false,
    "pycharm": {
     "name": "#%%\n"
    }
   }
  },
  {
   "cell_type": "code",
   "execution_count": 12,
   "outputs": [
    {
     "data": {
      "text/plain": "   percentage        r2\n0          50  0.931169\n1          60  0.936804\n2          70  0.941694\n3          80  0.946350\n4          90  0.950586",
      "text/html": "<div>\n<style scoped>\n    .dataframe tbody tr th:only-of-type {\n        vertical-align: middle;\n    }\n\n    .dataframe tbody tr th {\n        vertical-align: top;\n    }\n\n    .dataframe thead th {\n        text-align: right;\n    }\n</style>\n<table border=\"1\" class=\"dataframe\">\n  <thead>\n    <tr style=\"text-align: right;\">\n      <th></th>\n      <th>percentage</th>\n      <th>r2</th>\n    </tr>\n  </thead>\n  <tbody>\n    <tr>\n      <th>0</th>\n      <td>50</td>\n      <td>0.931169</td>\n    </tr>\n    <tr>\n      <th>1</th>\n      <td>60</td>\n      <td>0.936804</td>\n    </tr>\n    <tr>\n      <th>2</th>\n      <td>70</td>\n      <td>0.941694</td>\n    </tr>\n    <tr>\n      <th>3</th>\n      <td>80</td>\n      <td>0.946350</td>\n    </tr>\n    <tr>\n      <th>4</th>\n      <td>90</td>\n      <td>0.950586</td>\n    </tr>\n  </tbody>\n</table>\n</div>"
     },
     "execution_count": 12,
     "metadata": {},
     "output_type": "execute_result"
    }
   ],
   "source": [
    "df_lof_LOCF = df[(df['outlier'] == 'lof') & (df['imputation']=='LOCF')].groupby(['percentage']).mean(numeric_only=True).reset_index()\n",
    "df_lof_LOCF"
   ],
   "metadata": {
    "collapsed": false,
    "pycharm": {
     "name": "#%%\n"
    }
   }
  },
  {
   "cell_type": "code",
   "execution_count": 13,
   "outputs": [
    {
     "data": {
      "text/plain": "   percentage        r2\n0          50  0.947565\n1          60  0.955555\n2          70  0.959039\n3          80  0.962210\n4          90  0.963343",
      "text/html": "<div>\n<style scoped>\n    .dataframe tbody tr th:only-of-type {\n        vertical-align: middle;\n    }\n\n    .dataframe tbody tr th {\n        vertical-align: top;\n    }\n\n    .dataframe thead th {\n        text-align: right;\n    }\n</style>\n<table border=\"1\" class=\"dataframe\">\n  <thead>\n    <tr style=\"text-align: right;\">\n      <th></th>\n      <th>percentage</th>\n      <th>r2</th>\n    </tr>\n  </thead>\n  <tbody>\n    <tr>\n      <th>0</th>\n      <td>50</td>\n      <td>0.947565</td>\n    </tr>\n    <tr>\n      <th>1</th>\n      <td>60</td>\n      <td>0.955555</td>\n    </tr>\n    <tr>\n      <th>2</th>\n      <td>70</td>\n      <td>0.959039</td>\n    </tr>\n    <tr>\n      <th>3</th>\n      <td>80</td>\n      <td>0.962210</td>\n    </tr>\n    <tr>\n      <th>4</th>\n      <td>90</td>\n      <td>0.963343</td>\n    </tr>\n  </tbody>\n</table>\n</div>"
     },
     "execution_count": 13,
     "metadata": {},
     "output_type": "execute_result"
    }
   ],
   "source": [
    "df_lof_drop = df[(df['outlier'] == 'lof') & (df['imputation']=='drop')].groupby(['percentage']).mean(numeric_only=True).reset_index()\n",
    "df_lof_drop"
   ],
   "metadata": {
    "collapsed": false,
    "pycharm": {
     "name": "#%%\n"
    }
   }
  },
  {
   "cell_type": "code",
   "execution_count": 14,
   "outputs": [
    {
     "data": {
      "text/plain": "   percentage        r2\n0          50  0.927967\n1          60  0.933596\n2          70  0.938657\n3          80  0.943188\n4          90  0.946839",
      "text/html": "<div>\n<style scoped>\n    .dataframe tbody tr th:only-of-type {\n        vertical-align: middle;\n    }\n\n    .dataframe tbody tr th {\n        vertical-align: top;\n    }\n\n    .dataframe thead th {\n        text-align: right;\n    }\n</style>\n<table border=\"1\" class=\"dataframe\">\n  <thead>\n    <tr style=\"text-align: right;\">\n      <th></th>\n      <th>percentage</th>\n      <th>r2</th>\n    </tr>\n  </thead>\n  <tbody>\n    <tr>\n      <th>0</th>\n      <td>50</td>\n      <td>0.927967</td>\n    </tr>\n    <tr>\n      <th>1</th>\n      <td>60</td>\n      <td>0.933596</td>\n    </tr>\n    <tr>\n      <th>2</th>\n      <td>70</td>\n      <td>0.938657</td>\n    </tr>\n    <tr>\n      <th>3</th>\n      <td>80</td>\n      <td>0.943188</td>\n    </tr>\n    <tr>\n      <th>4</th>\n      <td>90</td>\n      <td>0.946839</td>\n    </tr>\n  </tbody>\n</table>\n</div>"
     },
     "execution_count": 14,
     "metadata": {},
     "output_type": "execute_result"
    }
   ],
   "source": [
    "df_lof_int = df[(df['outlier'] == 'lof') & (df['imputation']=='interpolation')].groupby(['percentage']).mean(numeric_only=True).reset_index()\n",
    "df_lof_int"
   ],
   "metadata": {
    "collapsed": false,
    "pycharm": {
     "name": "#%%\n"
    }
   }
  },
  {
   "cell_type": "code",
   "execution_count": 15,
   "outputs": [
    {
     "data": {
      "text/plain": "   percentage        r2\n0          50  0.912134\n1          60  0.900218\n2          70  0.873733\n3          80  0.850754\n4          90  0.802155",
      "text/html": "<div>\n<style scoped>\n    .dataframe tbody tr th:only-of-type {\n        vertical-align: middle;\n    }\n\n    .dataframe tbody tr th {\n        vertical-align: top;\n    }\n\n    .dataframe thead th {\n        text-align: right;\n    }\n</style>\n<table border=\"1\" class=\"dataframe\">\n  <thead>\n    <tr style=\"text-align: right;\">\n      <th></th>\n      <th>percentage</th>\n      <th>r2</th>\n    </tr>\n  </thead>\n  <tbody>\n    <tr>\n      <th>0</th>\n      <td>50</td>\n      <td>0.912134</td>\n    </tr>\n    <tr>\n      <th>1</th>\n      <td>60</td>\n      <td>0.900218</td>\n    </tr>\n    <tr>\n      <th>2</th>\n      <td>70</td>\n      <td>0.873733</td>\n    </tr>\n    <tr>\n      <th>3</th>\n      <td>80</td>\n      <td>0.850754</td>\n    </tr>\n    <tr>\n      <th>4</th>\n      <td>90</td>\n      <td>0.802155</td>\n    </tr>\n  </tbody>\n</table>\n</div>"
     },
     "execution_count": 15,
     "metadata": {},
     "output_type": "execute_result"
    }
   ],
   "source": [
    "df_if_locf = df[(df['outlier'] == 'iforest') & (df['imputation']=='LOCF')].groupby(['percentage']).mean(numeric_only=True).reset_index()\n",
    "df_if_locf"
   ],
   "metadata": {
    "collapsed": false,
    "pycharm": {
     "name": "#%%\n"
    }
   }
  },
  {
   "cell_type": "code",
   "execution_count": 16,
   "outputs": [
    {
     "data": {
      "text/plain": "   percentage        r2\n0          50  0.841540\n1          60  0.871627\n2          70  0.892541\n3          80  0.900571\n4          90  0.913666",
      "text/html": "<div>\n<style scoped>\n    .dataframe tbody tr th:only-of-type {\n        vertical-align: middle;\n    }\n\n    .dataframe tbody tr th {\n        vertical-align: top;\n    }\n\n    .dataframe thead th {\n        text-align: right;\n    }\n</style>\n<table border=\"1\" class=\"dataframe\">\n  <thead>\n    <tr style=\"text-align: right;\">\n      <th></th>\n      <th>percentage</th>\n      <th>r2</th>\n    </tr>\n  </thead>\n  <tbody>\n    <tr>\n      <th>0</th>\n      <td>50</td>\n      <td>0.841540</td>\n    </tr>\n    <tr>\n      <th>1</th>\n      <td>60</td>\n      <td>0.871627</td>\n    </tr>\n    <tr>\n      <th>2</th>\n      <td>70</td>\n      <td>0.892541</td>\n    </tr>\n    <tr>\n      <th>3</th>\n      <td>80</td>\n      <td>0.900571</td>\n    </tr>\n    <tr>\n      <th>4</th>\n      <td>90</td>\n      <td>0.913666</td>\n    </tr>\n  </tbody>\n</table>\n</div>"
     },
     "execution_count": 16,
     "metadata": {},
     "output_type": "execute_result"
    }
   ],
   "source": [
    "df_hst_locf = df[(df['outlier'] == 'hst') & (df['imputation']=='LOCF')].groupby(['percentage']).mean(numeric_only=True).reset_index()\n",
    "df_hst_locf"
   ],
   "metadata": {
    "collapsed": false,
    "pycharm": {
     "name": "#%%\n"
    }
   }
  },
  {
   "cell_type": "code",
   "execution_count": 17,
   "outputs": [
    {
     "data": {
      "text/plain": "     percentage  outlier imputation        r2\n11           90  iforest       LOCF  0.804839\n28           80  iforest       LOCF  0.851004\n45           70  iforest       LOCF  0.873690\n62           60  iforest       LOCF  0.902657\n79           50  iforest       LOCF  0.911229\n96           90  iforest       LOCF  0.799526\n112          80  iforest       LOCF  0.850283\n129          70  iforest       LOCF  0.873403\n146          60  iforest       LOCF  0.894714\n163          50  iforest       LOCF  0.910112\n181          90  iforest       LOCF  0.802100\n198          80  iforest       LOCF  0.850976\n215          70  iforest       LOCF  0.874105\n232          60  iforest       LOCF  0.903283\n249          50  iforest       LOCF  0.915061",
      "text/html": "<div>\n<style scoped>\n    .dataframe tbody tr th:only-of-type {\n        vertical-align: middle;\n    }\n\n    .dataframe tbody tr th {\n        vertical-align: top;\n    }\n\n    .dataframe thead th {\n        text-align: right;\n    }\n</style>\n<table border=\"1\" class=\"dataframe\">\n  <thead>\n    <tr style=\"text-align: right;\">\n      <th></th>\n      <th>percentage</th>\n      <th>outlier</th>\n      <th>imputation</th>\n      <th>r2</th>\n    </tr>\n  </thead>\n  <tbody>\n    <tr>\n      <th>11</th>\n      <td>90</td>\n      <td>iforest</td>\n      <td>LOCF</td>\n      <td>0.804839</td>\n    </tr>\n    <tr>\n      <th>28</th>\n      <td>80</td>\n      <td>iforest</td>\n      <td>LOCF</td>\n      <td>0.851004</td>\n    </tr>\n    <tr>\n      <th>45</th>\n      <td>70</td>\n      <td>iforest</td>\n      <td>LOCF</td>\n      <td>0.873690</td>\n    </tr>\n    <tr>\n      <th>62</th>\n      <td>60</td>\n      <td>iforest</td>\n      <td>LOCF</td>\n      <td>0.902657</td>\n    </tr>\n    <tr>\n      <th>79</th>\n      <td>50</td>\n      <td>iforest</td>\n      <td>LOCF</td>\n      <td>0.911229</td>\n    </tr>\n    <tr>\n      <th>96</th>\n      <td>90</td>\n      <td>iforest</td>\n      <td>LOCF</td>\n      <td>0.799526</td>\n    </tr>\n    <tr>\n      <th>112</th>\n      <td>80</td>\n      <td>iforest</td>\n      <td>LOCF</td>\n      <td>0.850283</td>\n    </tr>\n    <tr>\n      <th>129</th>\n      <td>70</td>\n      <td>iforest</td>\n      <td>LOCF</td>\n      <td>0.873403</td>\n    </tr>\n    <tr>\n      <th>146</th>\n      <td>60</td>\n      <td>iforest</td>\n      <td>LOCF</td>\n      <td>0.894714</td>\n    </tr>\n    <tr>\n      <th>163</th>\n      <td>50</td>\n      <td>iforest</td>\n      <td>LOCF</td>\n      <td>0.910112</td>\n    </tr>\n    <tr>\n      <th>181</th>\n      <td>90</td>\n      <td>iforest</td>\n      <td>LOCF</td>\n      <td>0.802100</td>\n    </tr>\n    <tr>\n      <th>198</th>\n      <td>80</td>\n      <td>iforest</td>\n      <td>LOCF</td>\n      <td>0.850976</td>\n    </tr>\n    <tr>\n      <th>215</th>\n      <td>70</td>\n      <td>iforest</td>\n      <td>LOCF</td>\n      <td>0.874105</td>\n    </tr>\n    <tr>\n      <th>232</th>\n      <td>60</td>\n      <td>iforest</td>\n      <td>LOCF</td>\n      <td>0.903283</td>\n    </tr>\n    <tr>\n      <th>249</th>\n      <td>50</td>\n      <td>iforest</td>\n      <td>LOCF</td>\n      <td>0.915061</td>\n    </tr>\n  </tbody>\n</table>\n</div>"
     },
     "execution_count": 17,
     "metadata": {},
     "output_type": "execute_result"
    }
   ],
   "source": [
    "df_if_locf_all = df[(df['outlier'] == 'iforest') & (df['imputation']=='LOCF')]\n",
    "df_if_locf_all"
   ],
   "metadata": {
    "collapsed": false,
    "pycharm": {
     "name": "#%%\n"
    }
   }
  },
  {
   "cell_type": "code",
   "execution_count": 18,
   "outputs": [
    {
     "data": {
      "text/plain": "   percentage        r2\n0          50  0.913892\n1          60  0.919887\n2          70  0.926857\n3          80  0.933715\n4          90  0.944192",
      "text/html": "<div>\n<style scoped>\n    .dataframe tbody tr th:only-of-type {\n        vertical-align: middle;\n    }\n\n    .dataframe tbody tr th {\n        vertical-align: top;\n    }\n\n    .dataframe thead th {\n        text-align: right;\n    }\n</style>\n<table border=\"1\" class=\"dataframe\">\n  <thead>\n    <tr style=\"text-align: right;\">\n      <th></th>\n      <th>percentage</th>\n      <th>r2</th>\n    </tr>\n  </thead>\n  <tbody>\n    <tr>\n      <th>0</th>\n      <td>50</td>\n      <td>0.913892</td>\n    </tr>\n    <tr>\n      <th>1</th>\n      <td>60</td>\n      <td>0.919887</td>\n    </tr>\n    <tr>\n      <th>2</th>\n      <td>70</td>\n      <td>0.926857</td>\n    </tr>\n    <tr>\n      <th>3</th>\n      <td>80</td>\n      <td>0.933715</td>\n    </tr>\n    <tr>\n      <th>4</th>\n      <td>90</td>\n      <td>0.944192</td>\n    </tr>\n  </tbody>\n</table>\n</div>"
     },
     "execution_count": 18,
     "metadata": {},
     "output_type": "execute_result"
    }
   ],
   "source": [
    "df_z_locf = df[(df['outlier'] == 'z') & (df['imputation']=='LOCF')].groupby(['percentage']).mean(numeric_only=True).reset_index()\n",
    "df_z_locf"
   ],
   "metadata": {
    "collapsed": false,
    "pycharm": {
     "name": "#%%\n"
    }
   }
  },
  {
   "cell_type": "code",
   "execution_count": 19,
   "outputs": [
    {
     "data": {
      "text/plain": "[]"
     },
     "execution_count": 19,
     "metadata": {},
     "output_type": "execute_result"
    },
    {
     "data": {
      "text/plain": "<Figure size 640x480 with 1 Axes>",
      "image/png": "[encoded data removed]"
     },
     "metadata": {},
     "output_type": "display_data"
    }
   ],
   "source": [
    "perc = [90,80,70,60,50]\n",
    "plt.plot(perc, [df_none['r2'].iloc[-1]]*len(perc), 'r--', label='Clean')\n",
    "plt.plot(df_none['percentage'].iloc[:-1],df_none['r2'].iloc[:-1], '--', label='No action')\n",
    "plt.plot(df_lof_LOCF['percentage'],df_lof_LOCF['r2'], label='LOF+LOCF')\n",
    "plt.plot(df_lof_int['percentage'],df_lof_int['r2'], label='LOF+int')\n",
    "plt.plot(df_hst_locf['percentage'],df_hst_locf['r2'], label='HST+LOCF')\n",
    "plt.plot(df_z_locf['percentage'],df_z_locf['r2'], label='z+LOCF')\n",
    "plt.plot(df_if_locf['percentage'],df_if_locf['r2'], label='IF+drop')\n",
    "plt.title(\"Random Forest Regression Performance - Shuffle = True\")\n",
    "plt.legend()\n",
    "plt.plot()"
   ],
   "metadata": {
    "collapsed": false,
    "pycharm": {
     "name": "#%%\n"
    }
   }
  },
  {
   "cell_type": "code",
   "execution_count": 20,
   "outputs": [],
   "source": [
    "#Completeness + regression\n",
    "#outlier + regression con nan_to_num\n",
    "#inject none e outliers e provare prima uno e poi l'altro\n",
    "#rifare tutto con un altro dataset"
   ],
   "metadata": {
    "collapsed": false,
    "pycharm": {
     "name": "#%%\n"
    }
   }
  },
  {
   "cell_type": "code",
   "execution_count": 20,
   "outputs": [],
   "source": [],
   "metadata": {
    "collapsed": false,
    "pycharm": {
     "name": "#%%\n"
    }
   }
  }
 ],
 "metadata": {
  "kernelspec": {
   "display_name": "Python 3",
   "language": "python",
   "name": "python3"
  },
  "language_info": {
   "codemirror_mode": {
    "name": "ipython",
    "version": 2
   },
   "file_extension": ".py",
   "mimetype": "text/x-python",
   "name": "python",
   "nbconvert_exporter": "python",
   "pygments_lexer": "ipython2",
   "version": "2.7.6"
  }
 },
 "nbformat": 4,
 "nbformat_minor": 0
}
{
 "cells": [
  {
   "cell_type": "code",
   "execution_count": 1,
   "metadata": {
    "collapsed": true,
    "pycharm": {
     "name": "#%%\n"
    }
   },
   "outputs": [],
   "source": [
    "import pandas as pd\n",
    "import numpy as np\n",
    "import matplotlib.pyplot as plt"
   ]
  },
  {
   "cell_type": "code",
   "execution_count": 2,
   "outputs": [
    {
     "data": {
      "text/plain": "     percentage   ML outlier     imputation        r2\n0           100  reg    none           none  0.885892\n1           100  clf    none           none  0.911818\n2           100  reg    none           none  0.883913\n3           100  clf    none           none  0.909394\n4           100  reg    none           none  0.885728\n..          ...  ...     ...            ...       ...\n411          50  clf    none           none  0.848182\n412          50  clf    none           drop  0.899696\n413          50  clf    none           locf  0.871818\n414          50  clf    none           mean  0.890606\n415          50  clf    none  interpolation  0.879394\n\n[416 rows x 5 columns]",
      "text/html": "<div>\n<style scoped>\n    .dataframe tbody tr th:only-of-type {\n        vertical-align: middle;\n    }\n\n    .dataframe tbody tr th {\n        vertical-align: top;\n    }\n\n    .dataframe thead th {\n        text-align: right;\n    }\n</style>\n<table border=\"1\" class=\"dataframe\">\n  <thead>\n    <tr style=\"text-align: right;\">\n      <th></th>\n      <th>percentage</th>\n      <th>ML</th>\n      <th>outlier</th>\n      <th>imputation</th>\n      <th>r2</th>\n    </tr>\n  </thead>\n  <tbody>\n    <tr>\n      <th>0</th>\n      <td>100</td>\n      <td>reg</td>\n      <td>none</td>\n      <td>none</td>\n      <td>0.885892</td>\n    </tr>\n    <tr>\n      <th>1</th>\n      <td>100</td>\n      <td>clf</td>\n      <td>none</td>\n      <td>none</td>\n      <td>0.911818</td>\n    </tr>\n    <tr>\n      <th>2</th>\n      <td>100</td>\n      <td>reg</td>\n      <td>none</td>\n      <td>none</td>\n      <td>0.883913</td>\n    </tr>\n    <tr>\n      <th>3</th>\n      <td>100</td>\n      <td>clf</td>\n      <td>none</td>\n      <td>none</td>\n      <td>0.909394</td>\n    </tr>\n    <tr>\n      <th>4</th>\n      <td>100</td>\n      <td>reg</td>\n      <td>none</td>\n      <td>none</td>\n      <td>0.885728</td>\n    </tr>\n    <tr>\n      <th>...</th>\n      <td>...</td>\n      <td>...</td>\n      <td>...</td>\n      <td>...</td>\n      <td>...</td>\n    </tr>\n    <tr>\n      <th>411</th>\n      <td>50</td>\n      <td>clf</td>\n      <td>none</td>\n      <td>none</td>\n      <td>0.848182</td>\n    </tr>\n    <tr>\n      <th>412</th>\n      <td>50</td>\n      <td>clf</td>\n      <td>none</td>\n      <td>drop</td>\n      <td>0.899696</td>\n    </tr>\n    <tr>\n      <th>413</th>\n      <td>50</td>\n      <td>clf</td>\n      <td>none</td>\n      <td>locf</td>\n      <td>0.871818</td>\n    </tr>\n    <tr>\n      <th>414</th>\n      <td>50</td>\n      <td>clf</td>\n      <td>none</td>\n      <td>mean</td>\n      <td>0.890606</td>\n    </tr>\n    <tr>\n      <th>415</th>\n      <td>50</td>\n      <td>clf</td>\n      <td>none</td>\n      <td>interpolation</td>\n      <td>0.879394</td>\n    </tr>\n  </tbody>\n</table>\n<p>416 rows × 5 columns</p>\n</div>"
     },
     "execution_count": 2,
     "metadata": {},
     "output_type": "execute_result"
    }
   ],
   "source": [
    "df_t = pd.read_csv(\"../../../Risultati/Electrical_TABULAR/data_imputation_classification.csv\")\n",
    "df_t['percentage']=100-df_t['percentage']\n",
    "df_t"
   ],
   "metadata": {
    "collapsed": false,
    "pycharm": {
     "name": "#%%\n"
    }
   }
  },
  {
   "cell_type": "code",
   "execution_count": 3,
   "outputs": [
    {
     "data": {
      "text/plain": "     percentage   ML outlier     imputation        r2\n1           100  clf    none           none  0.911818\n3           100  clf    none           none  0.909394\n5           100  clf    none           none  0.911212\n7           100  clf    none           none  0.909091\n9           100  clf    none           none  0.906970\n..          ...  ...     ...            ...       ...\n411          50  clf    none           none  0.848182\n412          50  clf    none           drop  0.899696\n413          50  clf    none           locf  0.871818\n414          50  clf    none           mean  0.890606\n415          50  clf    none  interpolation  0.879394\n\n[208 rows x 5 columns]",
      "text/html": "<div>\n<style scoped>\n    .dataframe tbody tr th:only-of-type {\n        vertical-align: middle;\n    }\n\n    .dataframe tbody tr th {\n        vertical-align: top;\n    }\n\n    .dataframe thead th {\n        text-align: right;\n    }\n</style>\n<table border=\"1\" class=\"dataframe\">\n  <thead>\n    <tr style=\"text-align: right;\">\n      <th></th>\n      <th>percentage</th>\n      <th>ML</th>\n      <th>outlier</th>\n      <th>imputation</th>\n      <th>r2</th>\n    </tr>\n  </thead>\n  <tbody>\n    <tr>\n      <th>1</th>\n      <td>100</td>\n      <td>clf</td>\n      <td>none</td>\n      <td>none</td>\n      <td>0.911818</td>\n    </tr>\n    <tr>\n      <th>3</th>\n      <td>100</td>\n      <td>clf</td>\n      <td>none</td>\n      <td>none</td>\n      <td>0.909394</td>\n    </tr>\n    <tr>\n      <th>5</th>\n      <td>100</td>\n      <td>clf</td>\n      <td>none</td>\n      <td>none</td>\n      <td>0.911212</td>\n    </tr>\n    <tr>\n      <th>7</th>\n      <td>100</td>\n      <td>clf</td>\n      <td>none</td>\n      <td>none</td>\n      <td>0.909091</td>\n    </tr>\n    <tr>\n      <th>9</th>\n      <td>100</td>\n      <td>clf</td>\n      <td>none</td>\n      <td>none</td>\n      <td>0.906970</td>\n    </tr>\n    <tr>\n      <th>...</th>\n      <td>...</td>\n      <td>...</td>\n      <td>...</td>\n      <td>...</td>\n      <td>...</td>\n    </tr>\n    <tr>\n      <th>411</th>\n      <td>50</td>\n      <td>clf</td>\n      <td>none</td>\n      <td>none</td>\n      <td>0.848182</td>\n    </tr>\n    <tr>\n      <th>412</th>\n      <td>50</td>\n      <td>clf</td>\n      <td>none</td>\n      <td>drop</td>\n      <td>0.899696</td>\n    </tr>\n    <tr>\n      <th>413</th>\n      <td>50</td>\n      <td>clf</td>\n      <td>none</td>\n      <td>locf</td>\n      <td>0.871818</td>\n    </tr>\n    <tr>\n      <th>414</th>\n      <td>50</td>\n      <td>clf</td>\n      <td>none</td>\n      <td>mean</td>\n      <td>0.890606</td>\n    </tr>\n    <tr>\n      <th>415</th>\n      <td>50</td>\n      <td>clf</td>\n      <td>none</td>\n      <td>interpolation</td>\n      <td>0.879394</td>\n    </tr>\n  </tbody>\n</table>\n<p>208 rows × 5 columns</p>\n</div>"
     },
     "execution_count": 3,
     "metadata": {},
     "output_type": "execute_result"
    }
   ],
   "source": [
    "df_t_c = df_t[df_t['ML']=='clf']\n",
    "df_t_c"
   ],
   "metadata": {
    "collapsed": false,
    "pycharm": {
     "name": "#%%\n"
    }
   }
  },
  {
   "cell_type": "code",
   "execution_count": 4,
   "outputs": [
    {
     "data": {
      "text/plain": "     percentage   ML outlier     imputation        r2\n0           100  reg    none           none  0.885892\n2           100  reg    none           none  0.883913\n4           100  reg    none           none  0.885728\n6           100  reg    none           none  0.886163\n8           100  reg    none           none  0.886064\n..          ...  ...     ...            ...       ...\n406          50  reg    none           none  0.757471\n407          50  reg    none           drop  0.865267\n408          50  reg    none           locf  0.767509\n409          50  reg    none           mean  0.807880\n410          50  reg    none  interpolation  0.787715\n\n[208 rows x 5 columns]",
      "text/html": "<div>\n<style scoped>\n    .dataframe tbody tr th:only-of-type {\n        vertical-align: middle;\n    }\n\n    .dataframe tbody tr th {\n        vertical-align: top;\n    }\n\n    .dataframe thead th {\n        text-align: right;\n    }\n</style>\n<table border=\"1\" class=\"dataframe\">\n  <thead>\n    <tr style=\"text-align: right;\">\n      <th></th>\n      <th>percentage</th>\n      <th>ML</th>\n      <th>outlier</th>\n      <th>imputation</th>\n      <th>r2</th>\n    </tr>\n  </thead>\n  <tbody>\n    <tr>\n      <th>0</th>\n      <td>100</td>\n      <td>reg</td>\n      <td>none</td>\n      <td>none</td>\n      <td>0.885892</td>\n    </tr>\n    <tr>\n      <th>2</th>\n      <td>100</td>\n      <td>reg</td>\n      <td>none</td>\n      <td>none</td>\n      <td>0.883913</td>\n    </tr>\n    <tr>\n      <th>4</th>\n      <td>100</td>\n      <td>reg</td>\n      <td>none</td>\n      <td>none</td>\n      <td>0.885728</td>\n    </tr>\n    <tr>\n      <th>6</th>\n      <td>100</td>\n      <td>reg</td>\n      <td>none</td>\n      <td>none</td>\n      <td>0.886163</td>\n    </tr>\n    <tr>\n      <th>8</th>\n      <td>100</td>\n      <td>reg</td>\n      <td>none</td>\n      <td>none</td>\n      <td>0.886064</td>\n    </tr>\n    <tr>\n      <th>...</th>\n      <td>...</td>\n      <td>...</td>\n      <td>...</td>\n      <td>...</td>\n      <td>...</td>\n    </tr>\n    <tr>\n      <th>406</th>\n      <td>50</td>\n      <td>reg</td>\n      <td>none</td>\n      <td>none</td>\n      <td>0.757471</td>\n    </tr>\n    <tr>\n      <th>407</th>\n      <td>50</td>\n      <td>reg</td>\n      <td>none</td>\n      <td>drop</td>\n      <td>0.865267</td>\n    </tr>\n    <tr>\n      <th>408</th>\n      <td>50</td>\n      <td>reg</td>\n      <td>none</td>\n      <td>locf</td>\n      <td>0.767509</td>\n    </tr>\n    <tr>\n      <th>409</th>\n      <td>50</td>\n      <td>reg</td>\n      <td>none</td>\n      <td>mean</td>\n      <td>0.807880</td>\n    </tr>\n    <tr>\n      <th>410</th>\n      <td>50</td>\n      <td>reg</td>\n      <td>none</td>\n      <td>interpolation</td>\n      <td>0.787715</td>\n    </tr>\n  </tbody>\n</table>\n<p>208 rows × 5 columns</p>\n</div>"
     },
     "execution_count": 4,
     "metadata": {},
     "output_type": "execute_result"
    }
   ],
   "source": [
    "df_t_r = df_t[df_t['ML'] == 'reg']\n",
    "df_t_r"
   ],
   "metadata": {
    "collapsed": false,
    "pycharm": {
     "name": "#%%\n"
    }
   }
  },
  {
   "cell_type": "code",
   "execution_count": 5,
   "outputs": [
    {
     "name": "stderr",
     "output_type": "stream",
     "text": [
      "C:\\Users\\giosi\\AppData\\Local\\Temp\\ipykernel_18896\\2638161332.py:2: SettingWithCopyWarning: \n",
      "A value is trying to be set on a copy of a slice from a DataFrame.\n",
      "Try using .loc[row_indexer,col_indexer] = value instead\n",
      "\n",
      "See the caveats in the documentation: https://pandas.pydata.org/pandas-docs/stable/user_guide/indexing.html#returning-a-view-versus-a-copy\n",
      "  df_t_r['percent_diff'] = (((df_t_r['r2'] - top_performance) / top_performance) * 100).round(2)\n",
      "C:\\Users\\giosi\\AppData\\Local\\Temp\\ipykernel_18896\\2638161332.py:3: FutureWarning: The default value of numeric_only in DataFrameGroupBy.mean is deprecated. In a future version, numeric_only will default to False. Either specify numeric_only or select only columns which should be valid for the function.\n",
      "  tabella = df_t_r.groupby(['outlier', 'imputation', 'percentage']).mean()\n"
     ]
    }
   ],
   "source": [
    "top_performance = df_t_r[df_t_r['percentage'] == 100]['r2'].mean()\n",
    "df_t_r['percent_diff'] = (((df_t_r['r2'] - top_performance) / top_performance) * 100).round(2)\n",
    "tabella = df_t_r.groupby(['outlier', 'imputation', 'percentage']).mean()\n",
    "tabella['r2'] = tabella['r2'].round(4)\n",
    "tabella['percent_diff'] = tabella['percent_diff'].round(2)\n",
    "tabella = tabella.reset_index()\n",
    "tabella = tabella.pivot(index=['outlier', 'imputation'], columns='percentage',\n",
    "                        values='percent_diff').reset_index().sort_values(by=[100, 90, 80, 70], ascending=False)\n",
    "res_tab_r = tabella.iloc[:,:-1]\n",
    "tabella.to_csv(\"1_tabular_r.csv\")"
   ],
   "metadata": {
    "collapsed": false,
    "pycharm": {
     "name": "#%%\n"
    }
   }
  },
  {
   "cell_type": "code",
   "execution_count": 6,
   "outputs": [
    {
     "name": "stderr",
     "output_type": "stream",
     "text": [
      "C:\\Users\\giosi\\AppData\\Local\\Temp\\ipykernel_18896\\3448982556.py:2: SettingWithCopyWarning: \n",
      "A value is trying to be set on a copy of a slice from a DataFrame.\n",
      "Try using .loc[row_indexer,col_indexer] = value instead\n",
      "\n",
      "See the caveats in the documentation: https://pandas.pydata.org/pandas-docs/stable/user_guide/indexing.html#returning-a-view-versus-a-copy\n",
      "  df_t_c['percent_diff'] = (((df_t_c['r2'] - top_performance) / top_performance) * 100).round(2)\n",
      "C:\\Users\\giosi\\AppData\\Local\\Temp\\ipykernel_18896\\3448982556.py:3: FutureWarning: The default value of numeric_only in DataFrameGroupBy.mean is deprecated. In a future version, numeric_only will default to False. Either specify numeric_only or select only columns which should be valid for the function.\n",
      "  tabella = df_t_c.groupby(['outlier', 'imputation', 'percentage']).mean()\n"
     ]
    }
   ],
   "source": [
    "top_performance = df_t_c[df_t_c['percentage'] == 100]['r2'].mean()\n",
    "df_t_c['percent_diff'] = (((df_t_c['r2'] - top_performance) / top_performance) * 100).round(2)\n",
    "tabella = df_t_c.groupby(['outlier', 'imputation', 'percentage']).mean()\n",
    "tabella['r2'] = tabella['r2'].round(4)\n",
    "tabella['percent_diff'] = tabella['percent_diff'].round(2)\n",
    "tabella = tabella.reset_index()\n",
    "tabella = tabella.pivot(index=['outlier', 'imputation'], columns='percentage',\n",
    "                        values='percent_diff').reset_index().sort_values(by=[100, 90, 80, 70], ascending=False)\n",
    "res_tab_c = tabella.iloc[:,:-1]\n",
    "tabella.to_csv(\"1_tabular_c.csv\")"
   ],
   "metadata": {
    "collapsed": false,
    "pycharm": {
     "name": "#%%\n"
    }
   }
  },
  {
   "cell_type": "code",
   "execution_count": 7,
   "outputs": [],
   "source": [
    "res_stream_r = pd.read_csv(\"../1/1_r_n.csv\").iloc[:,1:-1]\n",
    "res_stream_c = pd.read_csv(\"../1/1_c_n.csv\").iloc[:,1:-1]"
   ],
   "metadata": {
    "collapsed": false,
    "pycharm": {
     "name": "#%%\n"
    }
   }
  },
  {
   "cell_type": "code",
   "execution_count": 8,
   "outputs": [],
   "source": [
    "res_t_c = pd.merge(res_stream_c, res_tab_c, on=['outlier','imputation'])\n",
    "res_t_c['v_50'] = res_t_c.loc[:,'50']-res_t_c.loc[:,50]\n",
    "res_t_c['v_60'] = res_t_c.loc[:,'60']-res_t_c.loc[:,60]\n",
    "res_t_c['v_70'] = res_t_c.loc[:,'70']-res_t_c.loc[:,70]\n",
    "res_t_c['v_80'] = res_t_c.loc[:,'80']-res_t_c.loc[:,80]\n",
    "res_t_c['v_90'] = res_t_c.loc[:,'90']-res_t_c.loc[:,90]"
   ],
   "metadata": {
    "collapsed": false,
    "pycharm": {
     "name": "#%%\n"
    }
   }
  },
  {
   "cell_type": "code",
   "execution_count": 9,
   "outputs": [],
   "source": [
    "res_c = res_t_c.drop(columns=[50,60,70,80,90,'50','60','70','80','90'])"
   ],
   "metadata": {
    "collapsed": false,
    "pycharm": {
     "name": "#%%\n"
    }
   }
  },
  {
   "cell_type": "code",
   "execution_count": 10,
   "outputs": [],
   "source": [
    "res_c = res_c.round(2)"
   ],
   "metadata": {
    "collapsed": false,
    "pycharm": {
     "name": "#%%\n"
    }
   }
  },
  {
   "cell_type": "code",
   "execution_count": 11,
   "outputs": [],
   "source": [
    "res_t_r = pd.merge(res_stream_r, res_tab_r, on=['outlier','imputation'])\n",
    "res_t_r['v_50'] = res_t_r.loc[:,'50']-res_t_r.loc[:,50]\n",
    "res_t_r['v_60'] = res_t_r.loc[:,'60']-res_t_r.loc[:,60]\n",
    "res_t_r['v_70'] = res_t_r.loc[:,'70']-res_t_r.loc[:,70]\n",
    "res_t_r['v_80'] = res_t_r.loc[:,'80']-res_t_r.loc[:,80]\n",
    "res_t_r['v_90'] = res_t_r.loc[:,'90']-res_t_r.loc[:,90]"
   ],
   "metadata": {
    "collapsed": false,
    "pycharm": {
     "name": "#%%\n"
    }
   }
  },
  {
   "cell_type": "code",
   "execution_count": 12,
   "outputs": [],
   "source": [
    "res_r = res_t_r.drop(columns=[50,60,70,80,90,'50','60','70','80','90'])"
   ],
   "metadata": {
    "collapsed": false,
    "pycharm": {
     "name": "#%%\n"
    }
   }
  },
  {
   "cell_type": "code",
   "execution_count": 13,
   "outputs": [],
   "source": [
    "res_r = res_r.round(2)"
   ],
   "metadata": {
    "collapsed": false,
    "pycharm": {
     "name": "#%%\n"
    }
   }
  },
  {
   "cell_type": "code",
   "execution_count": 14,
   "outputs": [],
   "source": [
    "res_c.to_csv(\"1_comparison_c.csv\")\n",
    "res_r.to_csv(\"1_comparison_r.csv\")"
   ],
   "metadata": {
    "collapsed": false,
    "pycharm": {
     "name": "#%%\n"
    }
   }
  },
  {
   "cell_type": "code",
   "execution_count": 15,
   "outputs": [
    {
     "data": {
      "text/plain": "<Figure size 800x600 with 1 Axes>",
      "image/png": "[encoded data removed]"
     },
     "metadata": {},
     "output_type": "display_data"
    }
   ],
   "source": [
    "fig, ax = plt.subplots(figsize=(8, 6))\n",
    "\n",
    "# Function to color based on different data types\n",
    "def color_cell(value):\n",
    "    try:\n",
    "        value = float(value)\n",
    "        if value < 0:\n",
    "            return 'red'\n",
    "        elif value > 0:\n",
    "            return 'green'\n",
    "    except ValueError:\n",
    "        pass  # If not a number, don't color\n",
    "\n",
    "cell_text = []  # Data for cells\n",
    "colors = []\n",
    "for row in range(len(res_c)):\n",
    "    row_data = []\n",
    "    row_colors = []\n",
    "    for val in res_c.iloc[row]:\n",
    "        color = color_cell(val)\n",
    "        row_data.append(f'{val}')\n",
    "        row_colors.append(color)\n",
    "    cell_text.append(row_data)\n",
    "    colors.append(row_colors)\n",
    "\n",
    "table = ax.table(cellText=cell_text, colLabels=['Outlier','Imputation','50%','60%','70%','80%','90%'], loc='center', cellLoc='center')\n",
    "\n",
    "table.auto_set_font_size(False)\n",
    "table.set_fontsize(10)\n",
    "table.scale(1.5, 1.5)  # Adjust the table size if needed\n",
    "\n",
    "ax.axis('off')  # Turn off the axis\n",
    "\n",
    "plt.show()"
   ],
   "metadata": {
    "collapsed": false,
    "pycharm": {
     "name": "#%%\n"
    }
   }
  },
  {
   "cell_type": "code",
   "execution_count": 16,
   "outputs": [
    {
     "data": {
      "text/plain": "<Figure size 800x600 with 1 Axes>",
      "image/png": "[encoded data removed]"
     },
     "metadata": {},
     "output_type": "display_data"
    }
   ],
   "source": [
    "fig, ax = plt.subplots(figsize=(8, 6))\n",
    "\n",
    "# Function to color based on different data types\n",
    "def color_cell(value):\n",
    "    try:\n",
    "        value = float(value)\n",
    "        if value < 0:\n",
    "            return 'red'\n",
    "        elif value > 0:\n",
    "            return 'green'\n",
    "    except ValueError:\n",
    "        pass  # If not a number, don't color\n",
    "\n",
    "cell_text = []  # Data for cells\n",
    "colors = []\n",
    "for row in range(len(res_r)):\n",
    "    row_data = []\n",
    "    row_colors = []\n",
    "    for val in res_r.iloc[row]:\n",
    "        color = color_cell(val)\n",
    "        row_data.append(f'{val}')\n",
    "        row_colors.append(color)\n",
    "    cell_text.append(row_data)\n",
    "    colors.append(row_colors)\n",
    "\n",
    "table = ax.table(cellText=cell_text, colLabels=['Outlier','Imputation','50%','60%','70%','80%','90%'], loc='center', cellLoc='center', cellColours=colors)\n",
    "\n",
    "table.auto_set_font_size(False)\n",
    "table.set_fontsize(10)\n",
    "table.scale(1.5, 1.5)  # Adjust the table size if needed\n",
    "\n",
    "ax.axis('off')  # Turn off the axis\n",
    "\n",
    "plt.show()"
   ],
   "metadata": {
    "collapsed": false,
    "pycharm": {
     "name": "#%%\n"
    }
   }
  },
  {
   "cell_type": "code",
   "execution_count": 16,
   "outputs": [],
   "source": [],
   "metadata": {
    "collapsed": false,
    "pycharm": {
     "name": "#%%\n"
    }
   }
  }
 ],
 "metadata": {
  "kernelspec": {
   "display_name": "Python 3",
   "language": "python",
   "name": "python3"
  },
  "language_info": {
   "codemirror_mode": {
    "name": "ipython",
    "version": 2
   },
   "file_extension": ".py",
   "mimetype": "text/x-python",
   "name": "python",
   "nbconvert_exporter": "python",
   "pygments_lexer": "ipython2",
   "version": "2.7.6"
  }
 },
 "nbformat": 4,
 "nbformat_minor": 0
}
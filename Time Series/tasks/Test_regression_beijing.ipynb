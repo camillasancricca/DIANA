{
 "cells": [
  {
   "cell_type": "code",
   "execution_count": 1,
   "id": "6f12233c",
   "metadata": {},
   "outputs": [],
   "source": [
    "import numpy as np\n",
    "import pandas as pd\n",
    "import sklearn \n",
    "import matplotlib.pyplot as plt\n",
    "import seaborn as sns\n",
    "from sklearn.model_selection import train_test_split\n",
    "from sklearn.metrics import confusion_matrix, recall_score, f1_score\n",
    "from sklearn.preprocessing import StandardScaler\n",
    "from sklearn.ensemble import RandomForestClassifier\n",
    "from sklearn.naive_bayes import GaussianNB\n",
    "from sklearn import metrics\n"
   ]
  },
  {
   "cell_type": "code",
   "execution_count": 35,
   "outputs": [],
   "source": [
    "perc = 50\n",
    "od = 'none'\n",
    "imp = 'none'"
   ],
   "metadata": {
    "collapsed": false,
    "pycharm": {
     "name": "#%%\n"
    }
   }
  },
  {
   "cell_type": "code",
   "execution_count": 36,
   "outputs": [
    {
     "data": {
      "text/plain": "              PM2.5          PM10           SO2           NO2            CO  \\\ncount  70128.000000  70128.000000  70128.000000  70128.000000  70128.000000   \nmean      82.215945    115.449000     19.125775     58.630111   1393.901580   \nstd       76.534752    155.193668     35.327174     62.215078   1881.258200   \nmin        2.000000   -475.549554   -107.354275   -193.519391  -5779.200979   \n25%       22.000000     35.000000      3.000000     27.000000    500.000000   \n50%       59.000000     88.000000      8.000000     50.000000   1000.000000   \n75%      116.000000    159.000000     24.000000     82.000000   1800.000000   \nmax      343.000000    877.404951    197.625101    360.542038  10878.728060   \n\n                 O3          TEMP          PRES          DEWP          RAIN  \\\ncount  70128.000000  70128.000000  70128.000000  70128.000000  70128.000000   \nmean      60.271413     13.586089   1012.298312      2.123717      0.118314   \nstd       91.147877     21.454172     20.709230     24.543106      0.860646   \nmin     -275.509114    -86.260625    916.849504   -112.194357     -2.877558   \n25%        7.000000      2.700000   1002.800000     -9.700000      0.000000   \n50%       43.000000     14.700000   1011.700000      3.200000      0.000000   \n75%       87.000000     24.100000   1021.300000     15.800000      0.000000   \nmax      505.640757    110.550498   1110.231214    105.634597      5.279950   \n\n                 wd          WSPM       station  \ncount  70128.000000  70128.000000  70128.000000  \nmean       8.170898      1.854658      0.500000  \nstd        6.498991      2.097208      0.500004  \nmin      -16.978716     -6.599699      0.000000  \n25%        4.000000      0.900000      0.000000  \n50%        8.000000      1.500000      0.500000  \n75%       12.000000      2.400000      1.000000  \nmax       33.984075     12.098765      1.000000  ",
      "text/html": "<div>\n<style scoped>\n    .dataframe tbody tr th:only-of-type {\n        vertical-align: middle;\n    }\n\n    .dataframe tbody tr th {\n        vertical-align: top;\n    }\n\n    .dataframe thead th {\n        text-align: right;\n    }\n</style>\n<table border=\"1\" class=\"dataframe\">\n  <thead>\n    <tr style=\"text-align: right;\">\n      <th></th>\n      <th>PM2.5</th>\n      <th>PM10</th>\n      <th>SO2</th>\n      <th>NO2</th>\n      <th>CO</th>\n      <th>O3</th>\n      <th>TEMP</th>\n      <th>PRES</th>\n      <th>DEWP</th>\n      <th>RAIN</th>\n      <th>wd</th>\n      <th>WSPM</th>\n      <th>station</th>\n    </tr>\n  </thead>\n  <tbody>\n    <tr>\n      <th>count</th>\n      <td>70128.000000</td>\n      <td>70128.000000</td>\n      <td>70128.000000</td>\n      <td>70128.000000</td>\n      <td>70128.000000</td>\n      <td>70128.000000</td>\n      <td>70128.000000</td>\n      <td>70128.000000</td>\n      <td>70128.000000</td>\n      <td>70128.000000</td>\n      <td>70128.000000</td>\n      <td>70128.000000</td>\n      <td>70128.000000</td>\n    </tr>\n    <tr>\n      <th>mean</th>\n      <td>82.215945</td>\n      <td>115.449000</td>\n      <td>19.125775</td>\n      <td>58.630111</td>\n      <td>1393.901580</td>\n      <td>60.271413</td>\n      <td>13.586089</td>\n      <td>1012.298312</td>\n      <td>2.123717</td>\n      <td>0.118314</td>\n      <td>8.170898</td>\n      <td>1.854658</td>\n      <td>0.500000</td>\n    </tr>\n    <tr>\n      <th>std</th>\n      <td>76.534752</td>\n      <td>155.193668</td>\n      <td>35.327174</td>\n      <td>62.215078</td>\n      <td>1881.258200</td>\n      <td>91.147877</td>\n      <td>21.454172</td>\n      <td>20.709230</td>\n      <td>24.543106</td>\n      <td>0.860646</td>\n      <td>6.498991</td>\n      <td>2.097208</td>\n      <td>0.500004</td>\n    </tr>\n    <tr>\n      <th>min</th>\n      <td>2.000000</td>\n      <td>-475.549554</td>\n      <td>-107.354275</td>\n      <td>-193.519391</td>\n      <td>-5779.200979</td>\n      <td>-275.509114</td>\n      <td>-86.260625</td>\n      <td>916.849504</td>\n      <td>-112.194357</td>\n      <td>-2.877558</td>\n      <td>-16.978716</td>\n      <td>-6.599699</td>\n      <td>0.000000</td>\n    </tr>\n    <tr>\n      <th>25%</th>\n      <td>22.000000</td>\n      <td>35.000000</td>\n      <td>3.000000</td>\n      <td>27.000000</td>\n      <td>500.000000</td>\n      <td>7.000000</td>\n      <td>2.700000</td>\n      <td>1002.800000</td>\n      <td>-9.700000</td>\n      <td>0.000000</td>\n      <td>4.000000</td>\n      <td>0.900000</td>\n      <td>0.000000</td>\n    </tr>\n    <tr>\n      <th>50%</th>\n      <td>59.000000</td>\n      <td>88.000000</td>\n      <td>8.000000</td>\n      <td>50.000000</td>\n      <td>1000.000000</td>\n      <td>43.000000</td>\n      <td>14.700000</td>\n      <td>1011.700000</td>\n      <td>3.200000</td>\n      <td>0.000000</td>\n      <td>8.000000</td>\n      <td>1.500000</td>\n      <td>0.500000</td>\n    </tr>\n    <tr>\n      <th>75%</th>\n      <td>116.000000</td>\n      <td>159.000000</td>\n      <td>24.000000</td>\n      <td>82.000000</td>\n      <td>1800.000000</td>\n      <td>87.000000</td>\n      <td>24.100000</td>\n      <td>1021.300000</td>\n      <td>15.800000</td>\n      <td>0.000000</td>\n      <td>12.000000</td>\n      <td>2.400000</td>\n      <td>1.000000</td>\n    </tr>\n    <tr>\n      <th>max</th>\n      <td>343.000000</td>\n      <td>877.404951</td>\n      <td>197.625101</td>\n      <td>360.542038</td>\n      <td>10878.728060</td>\n      <td>505.640757</td>\n      <td>110.550498</td>\n      <td>1110.231214</td>\n      <td>105.634597</td>\n      <td>5.279950</td>\n      <td>33.984075</td>\n      <td>12.098765</td>\n      <td>1.000000</td>\n    </tr>\n  </tbody>\n</table>\n</div>"
     },
     "execution_count": 36,
     "metadata": {},
     "output_type": "execute_result"
    }
   ],
   "source": [
    "df_clean = pd.read_csv(\"../Datasets/PRSA_data_outliers.csv\")\n",
    "df_clean.describe()"
   ],
   "metadata": {
    "collapsed": false,
    "pycharm": {
     "name": "#%%\n"
    }
   }
  },
  {
   "cell_type": "code",
   "execution_count": 37,
   "id": "e94ef31b",
   "metadata": {
    "scrolled": false
   },
   "outputs": [
    {
     "data": {
      "text/plain": "   PM2.5        PM10  SO2         NO2     CO          O3       TEMP    PRES  \\\n0    5.0   14.000000  4.0   12.000000  200.0 -250.142374  73.839853  1024.5   \n1    9.0    9.000000  6.0   17.000000  200.0   62.000000   0.300000  1021.9   \n2    8.0   12.000000  6.0   14.000000  200.0   84.000000  -0.700000  1025.1   \n3   11.0  690.244794  7.0   14.000000  200.0  337.473895  -0.100000  1022.4   \n4    3.0  719.856914  5.0  261.697976  200.0   83.000000  -1.200000  1025.3   \n\n       DEWP  RAIN    wd       WSPM  station  \n0 -21.40000   0.0  16.0   2.000000        0  \n1 -19.00000   0.0  14.0   2.000000        1  \n2 -22.10000   0.0  15.0  10.319367        0  \n3  91.56694   0.0  14.0   4.400000        1  \n4 -24.60000   0.0  16.0   7.033890        0  ",
      "text/html": "<div>\n<style scoped>\n    .dataframe tbody tr th:only-of-type {\n        vertical-align: middle;\n    }\n\n    .dataframe tbody tr th {\n        vertical-align: top;\n    }\n\n    .dataframe thead th {\n        text-align: right;\n    }\n</style>\n<table border=\"1\" class=\"dataframe\">\n  <thead>\n    <tr style=\"text-align: right;\">\n      <th></th>\n      <th>PM2.5</th>\n      <th>PM10</th>\n      <th>SO2</th>\n      <th>NO2</th>\n      <th>CO</th>\n      <th>O3</th>\n      <th>TEMP</th>\n      <th>PRES</th>\n      <th>DEWP</th>\n      <th>RAIN</th>\n      <th>wd</th>\n      <th>WSPM</th>\n      <th>station</th>\n    </tr>\n  </thead>\n  <tbody>\n    <tr>\n      <th>0</th>\n      <td>5.0</td>\n      <td>14.000000</td>\n      <td>4.0</td>\n      <td>12.000000</td>\n      <td>200.0</td>\n      <td>-250.142374</td>\n      <td>73.839853</td>\n      <td>1024.5</td>\n      <td>-21.40000</td>\n      <td>0.0</td>\n      <td>16.0</td>\n      <td>2.000000</td>\n      <td>0</td>\n    </tr>\n    <tr>\n      <th>1</th>\n      <td>9.0</td>\n      <td>9.000000</td>\n      <td>6.0</td>\n      <td>17.000000</td>\n      <td>200.0</td>\n      <td>62.000000</td>\n      <td>0.300000</td>\n      <td>1021.9</td>\n      <td>-19.00000</td>\n      <td>0.0</td>\n      <td>14.0</td>\n      <td>2.000000</td>\n      <td>1</td>\n    </tr>\n    <tr>\n      <th>2</th>\n      <td>8.0</td>\n      <td>12.000000</td>\n      <td>6.0</td>\n      <td>14.000000</td>\n      <td>200.0</td>\n      <td>84.000000</td>\n      <td>-0.700000</td>\n      <td>1025.1</td>\n      <td>-22.10000</td>\n      <td>0.0</td>\n      <td>15.0</td>\n      <td>10.319367</td>\n      <td>0</td>\n    </tr>\n    <tr>\n      <th>3</th>\n      <td>11.0</td>\n      <td>690.244794</td>\n      <td>7.0</td>\n      <td>14.000000</td>\n      <td>200.0</td>\n      <td>337.473895</td>\n      <td>-0.100000</td>\n      <td>1022.4</td>\n      <td>91.56694</td>\n      <td>0.0</td>\n      <td>14.0</td>\n      <td>4.400000</td>\n      <td>1</td>\n    </tr>\n    <tr>\n      <th>4</th>\n      <td>3.0</td>\n      <td>719.856914</td>\n      <td>5.0</td>\n      <td>261.697976</td>\n      <td>200.0</td>\n      <td>83.000000</td>\n      <td>-1.200000</td>\n      <td>1025.3</td>\n      <td>-24.60000</td>\n      <td>0.0</td>\n      <td>16.0</td>\n      <td>7.033890</td>\n      <td>0</td>\n    </tr>\n  </tbody>\n</table>\n</div>"
     },
     "execution_count": 37,
     "metadata": {},
     "output_type": "execute_result"
    }
   ],
   "source": [
    "df_clean.drop([\"date_time\"],axis=1,inplace=True)\n",
    "df_clean.dropna(axis=0,inplace=True)\n",
    "df_clean.head()"
   ]
  },
  {
   "cell_type": "code",
   "execution_count": 38,
   "outputs": [
    {
     "name": "stdout",
     "output_type": "stream",
     "text": [
      "[[-0.65369757 -0.42816565 -0.7495039  ...  1.20467274  0.06930288\n",
      "  -1.        ]\n",
      " [-0.68591561 -0.3715516  -0.66913696 ...  0.89693048  0.06930288\n",
      "   1.        ]\n",
      " [-0.66658479 -0.3715516  -0.71735713 ...  1.05080161  4.03620751\n",
      "  -1.        ]\n",
      " ...\n",
      " [-0.5957051  -0.42816565 -0.46018291 ...  1.20467274 -0.31215929\n",
      "   1.        ]\n",
      " [-0.56348706 -0.34324458 -0.17086191 ... -0.9495231  -2.47398899\n",
      "  -1.        ]\n",
      " [-0.62147953 -0.42816565 -0.3315958  ... -0.9495231  -0.26447652\n",
      "   1.        ]]\n",
      "           PM10       SO2       NO2        CO        O3      TEMP      PRES  \\\n",
      "0     -0.653698 -0.428166 -0.749504 -0.634634 -3.405631  2.808507  0.589195   \n",
      "1     -0.685916 -0.371552 -0.669137 -0.634634  0.018965 -0.619282  0.463646   \n",
      "2     -0.666585 -0.371552 -0.717357 -0.634634  0.260333 -0.665893  0.618168   \n",
      "3      3.703759 -0.343245 -0.717357 -0.634634  3.041261 -0.637927  0.487790   \n",
      "4      3.894568 -0.399859  3.263989 -0.634634  0.249361 -0.689199  0.627825   \n",
      "...         ...       ...       ...       ...       ...       ...       ...   \n",
      "70123 -0.563487 -0.428166 -0.331596 -0.475165 -0.068805 -0.129863  0.091829   \n",
      "70124 -0.518382 -0.371552 -0.154789 -0.475165 -0.211432 -0.143847  0.101486   \n",
      "70125 -0.595705 -0.428166 -0.460183 -0.528321 -0.013949 -0.143847  0.101486   \n",
      "70126 -0.563487 -0.343245 -0.170862 -0.422009 -0.233374 -3.132677  0.087000   \n",
      "70127 -0.621480 -0.428166 -0.331596 -0.422009 -0.123662 -0.232408  0.087000   \n",
      "\n",
      "           DEWP      RAIN        wd      WSPM  station  \n",
      "0     -0.958472 -0.137472  1.204673  0.069303     -1.0  \n",
      "1     -0.860684 -0.137472  0.896930  0.069303      1.0  \n",
      "2     -0.986994 -0.137472  1.050802  4.036208     -1.0  \n",
      "3      3.644358 -0.137472  0.896930  1.213689      1.0  \n",
      "4     -1.088856 -0.137472  1.204673  2.469601     -1.0  \n",
      "...         ...       ...       ...       ...      ...  \n",
      "70123 -0.628438 -0.137472  1.050802 -0.359842      1.0  \n",
      "70124 -0.612140 -0.137472  1.204673 -0.312159     -1.0  \n",
      "70125 -0.612140 -0.137472  1.204673 -0.312159      1.0  \n",
      "70126 -0.734375  3.956024 -0.949523 -2.473989     -1.0  \n",
      "70127 -0.734375 -0.137472 -0.949523 -0.264477      1.0  \n",
      "\n",
      "[70128 rows x 12 columns]\n"
     ]
    }
   ],
   "source": [
    "cols = ['PM10', 'SO2', 'NO2', 'CO', 'O3', 'TEMP', 'PRES', 'DEWP', 'RAIN', 'wd', 'WSPM', 'station']\n",
    "y = df_clean.pop('PM2.5')\n",
    "X = df_clean[cols]\n",
    "\n",
    "\n",
    "scaler = StandardScaler()\n",
    "\n",
    "standardized_data = scaler.fit_transform(df_clean)\n",
    "\n",
    "print(standardized_data)\n",
    "\n",
    "standardized_df = pd.DataFrame(standardized_data, columns=df_clean.columns)\n",
    "print(standardized_df)\n",
    "\n",
    "X = standardized_df\n",
    "\n",
    "X_train, X_test, y_train, y_test = train_test_split(X, y, test_size=0.33, random_state=42)\n"
   ],
   "metadata": {
    "collapsed": false,
    "pycharm": {
     "name": "#%%\n"
    }
   }
  },
  {
   "cell_type": "code",
   "execution_count": 39,
   "id": "bbecf0c5",
   "metadata": {
    "scrolled": false
   },
   "outputs": [
    {
     "data": {
      "text/plain": "0.8905635827283246"
     },
     "execution_count": 39,
     "metadata": {},
     "output_type": "execute_result"
    }
   ],
   "source": [
    "from sklearn.ensemble import RandomForestRegressor\n",
    "\n",
    "rf_reg = RandomForestRegressor(random_state=1)\n",
    "rf_reg.fit(X_train,y_train)\n",
    "pred = rf_reg.predict(X_test)\n",
    "r2 = metrics.r2_score(y_test,pred)\n",
    "r2"
   ]
  },
  {
   "cell_type": "code",
   "execution_count": 40,
   "outputs": [
    {
     "name": "stderr",
     "output_type": "stream",
     "text": [
      "C:\\Users\\giosi\\AppData\\Local\\Temp\\ipykernel_3500\\3723337025.py:5: FutureWarning: The frame.append method is deprecated and will be removed from pandas in a future version. Use pandas.concat instead.\n",
      "  df = df.append(row)\n"
     ]
    }
   ],
   "source": [
    "path = \"../Risultati/regression.csv\"\n",
    "cols = [\"percentage\",\"outlier\",\"imputation\",\"r2\"]\n",
    "df = pd.read_csv(path)\n",
    "row = pd.DataFrame([[perc,od,imp,r2]], columns=cols)\n",
    "df = df.append(row)\n",
    "\n",
    "df.to_csv(path, index=False)"
   ],
   "metadata": {
    "collapsed": false,
    "pycharm": {
     "name": "#%%\n"
    }
   }
  },
  {
   "cell_type": "code",
   "execution_count": 6,
   "outputs": [],
   "source": [
    "import pickle\n",
    "def evaluate(predicted):\n",
    "\n",
    "    with open('../Datasets/outliers_index.pkl', 'rb') as pick:\n",
    "        true = pickle.load(pick)\n",
    "    common_values = np.intersect1d(true, predicted)\n",
    "\n",
    "    # Compute precision\n",
    "    precision = len(common_values) / len(predicted)\n",
    "\n",
    "    # Compute recall\n",
    "    recall = len(common_values) / len(true)\n",
    "\n",
    "    f1 = (2 * precision * recall) / (precision + recall)\n",
    "\n",
    "    print(\"Common values: \", len(common_values))\n",
    "    print(\"Precision: \", precision)\n",
    "    print(\"Recall: \", recall)\n",
    "    print(\"F1-score \", f1)"
   ],
   "metadata": {
    "collapsed": false,
    "pycharm": {
     "name": "#%%\n"
    }
   }
  },
  {
   "cell_type": "code",
   "execution_count": 8,
   "outputs": [
    {
     "name": "stdout",
     "output_type": "stream",
     "text": [
      "8287\n",
      "Common values:  7005\n",
      "Precision:  0.8452998672619766\n",
      "Recall:  0.2788392643897779\n",
      "F1-score  0.41934807985872075\n"
     ]
    }
   ],
   "source": [
    "from pyod.models.lof import LOF\n",
    "\n",
    "lof = LOF()\n",
    "df_o.drop(['date_time'],axis=1,inplace=True)\n",
    "lof = lof.fit(df_o)\n",
    "outliers = lof.predict(df_o)\n",
    "outliers = np.where(outliers == 1)[0]\n",
    "print(len(outliers))\n",
    "evaluate(outliers)"
   ],
   "metadata": {
    "collapsed": false,
    "pycharm": {
     "name": "#%%\n"
    }
   }
  },
  {
   "cell_type": "code",
   "execution_count": 9,
   "outputs": [
    {
     "name": "stderr",
     "output_type": "stream",
     "text": [
      "C:\\Users\\giosi\\PycharmProjects\\git\\tesi\\venv\\lib\\site-packages\\sklearn\\base.py:457: UserWarning: X has feature names, but IsolationForest was fitted without feature names\n",
      "  warnings.warn(\n"
     ]
    },
    {
     "name": "stdout",
     "output_type": "stream",
     "text": [
      "8886\n",
      "Common values:  7951\n",
      "Precision:  0.8947783029484583\n",
      "Recall:  0.31649550195048165\n",
      "F1-score  0.4675958597976947\n"
     ]
    }
   ],
   "source": [
    "from pyod.models.iforest import IForest\n",
    "\n",
    "ifor = IForest()\n",
    "#df_o.drop(['date_time'],axis=1,inplace=True)\n",
    "ifor = ifor.fit(df_o)\n",
    "outliers = ifor.predict(df_o)\n",
    "outliers = np.where(outliers == 1)[0]\n",
    "print(len(outliers))\n",
    "evaluate(outliers)"
   ],
   "metadata": {
    "collapsed": false,
    "pycharm": {
     "name": "#%%\n"
    }
   }
  },
  {
   "cell_type": "code",
   "execution_count": 11,
   "outputs": [
    {
     "name": "stdout",
     "output_type": "stream",
     "text": [
      "8775\n"
     ]
    }
   ],
   "source": [
    "from pyod.models.lof import LOF\n",
    "\n",
    "lof = LOF()\n",
    "#df_clean.drop(['date_time'],axis=1,inplace=True)\n",
    "lof = lof.fit(df_clean)\n",
    "outliers = lof.predict(df_clean)\n",
    "outliers = np.where(outliers == 1)[0]\n",
    "print(len(outliers))"
   ],
   "metadata": {
    "collapsed": false,
    "pycharm": {
     "name": "#%%\n"
    }
   }
  },
  {
   "cell_type": "code",
   "execution_count": 12,
   "outputs": [
    {
     "name": "stderr",
     "output_type": "stream",
     "text": [
      "C:\\Users\\giosi\\PycharmProjects\\git\\tesi\\venv\\lib\\site-packages\\sklearn\\base.py:457: UserWarning: X has feature names, but IsolationForest was fitted without feature names\n",
      "  warnings.warn(\n"
     ]
    },
    {
     "name": "stdout",
     "output_type": "stream",
     "text": [
      "9873\n"
     ]
    }
   ],
   "source": [
    "from pyod.models.iforest import IForest\n",
    "\n",
    "ifor = IForest()\n",
    "#df_o.drop(['date_time'],axis=1,inplace=True)\n",
    "ifor = ifor.fit(df_clean)\n",
    "outliers = ifor.predict(df_clean)\n",
    "outliers = np.where(outliers == 1)[0]\n",
    "print(len(outliers))"
   ],
   "metadata": {
    "collapsed": false,
    "pycharm": {
     "name": "#%%\n"
    }
   }
  },
  {
   "cell_type": "code",
   "execution_count": 10,
   "outputs": [
    {
     "data": {
      "text/plain": "          PM2.5      PM10       SO2       NO2        CO        O3      TEMP  \\\n0     -1.023604 -0.611464 -0.319668 -0.887177 -0.469890  0.256058 -0.952549   \n1     -0.977793 -0.592721 -0.265523 -0.715584 -0.519120  0.041434 -0.900307   \n2     -0.993063 -3.076643 -0.265523 -0.772781 -0.519120  0.289946 -0.965609   \n3     -1.023604 -0.467764 -0.292596 -0.868111 -0.469890  0.244762 -0.965609   \n4     -0.947252 -0.580225 -0.238451 -0.772781 -0.519120  0.086618 -0.926428   \n...         ...       ...       ...       ...       ...       ...       ...   \n88847 -0.886170 -0.386542 -0.292596 -0.048277 -0.322201 -0.161893 -0.234223   \n88848 -0.931982 -0.505251 -0.319668 -0.467727 -0.420661  0.007546 -0.234223   \n88849 -0.962522 -0.474012 -0.238451 -0.124541 -0.322201 -0.218373 -0.358297   \n88850 -0.886170 -0.336559 -0.292596  0.256777 -5.218232 -0.421700 -0.358297   \n88851 -0.916711 -0.530242 -0.319668 -0.315200 -0.322201 -0.105413 -0.358297   \n\n           PRES      DEWP      RAIN        wd      WSPM   station  \n0      0.861978 -1.342908 -0.088104  1.509107  1.566176 -0.003086  \n1      0.681341 -1.209798 -0.088104  1.135422  0.049013  1.231867  \n2      0.903664 -1.381732 -2.500652  1.322264  0.828097 -1.238039  \n3      0.903664 -1.381732 -0.088104  1.322264  0.828097 -0.003086  \n4      0.716079 -1.226437 -0.088104  1.135422  1.033119  1.231867  \n...         ...       ...       ...       ...       ...       ...  \n88847  0.160274 -0.871477 -0.088104  1.509107 -0.279022 -0.003086  \n88848  0.160274 -0.871477 -0.088104  1.509107 -0.279022  1.231867  \n88849  0.139431 -1.037864 -0.088104 -1.106689 -0.238017 -1.238039  \n88850  0.139431 -1.037864 -0.088104 -1.106689 -0.238017 -0.003086  \n88851  0.139431 -1.037864 -0.088104 -1.106689 -0.238017  1.231867  \n\n[88852 rows x 13 columns]",
      "text/html": "<div>\n<style scoped>\n    .dataframe tbody tr th:only-of-type {\n        vertical-align: middle;\n    }\n\n    .dataframe tbody tr th {\n        vertical-align: top;\n    }\n\n    .dataframe thead th {\n        text-align: right;\n    }\n</style>\n<table border=\"1\" class=\"dataframe\">\n  <thead>\n    <tr style=\"text-align: right;\">\n      <th></th>\n      <th>PM2.5</th>\n      <th>PM10</th>\n      <th>SO2</th>\n      <th>NO2</th>\n      <th>CO</th>\n      <th>O3</th>\n      <th>TEMP</th>\n      <th>PRES</th>\n      <th>DEWP</th>\n      <th>RAIN</th>\n      <th>wd</th>\n      <th>WSPM</th>\n      <th>station</th>\n    </tr>\n  </thead>\n  <tbody>\n    <tr>\n      <th>0</th>\n      <td>-1.023604</td>\n      <td>-0.611464</td>\n      <td>-0.319668</td>\n      <td>-0.887177</td>\n      <td>-0.469890</td>\n      <td>0.256058</td>\n      <td>-0.952549</td>\n      <td>0.861978</td>\n      <td>-1.342908</td>\n      <td>-0.088104</td>\n      <td>1.509107</td>\n      <td>1.566176</td>\n      <td>-0.003086</td>\n    </tr>\n    <tr>\n      <th>1</th>\n      <td>-0.977793</td>\n      <td>-0.592721</td>\n      <td>-0.265523</td>\n      <td>-0.715584</td>\n      <td>-0.519120</td>\n      <td>0.041434</td>\n      <td>-0.900307</td>\n      <td>0.681341</td>\n      <td>-1.209798</td>\n      <td>-0.088104</td>\n      <td>1.135422</td>\n      <td>0.049013</td>\n      <td>1.231867</td>\n    </tr>\n    <tr>\n      <th>2</th>\n      <td>-0.993063</td>\n      <td>-3.076643</td>\n      <td>-0.265523</td>\n      <td>-0.772781</td>\n      <td>-0.519120</td>\n      <td>0.289946</td>\n      <td>-0.965609</td>\n      <td>0.903664</td>\n      <td>-1.381732</td>\n      <td>-2.500652</td>\n      <td>1.322264</td>\n      <td>0.828097</td>\n      <td>-1.238039</td>\n    </tr>\n    <tr>\n      <th>3</th>\n      <td>-1.023604</td>\n      <td>-0.467764</td>\n      <td>-0.292596</td>\n      <td>-0.868111</td>\n      <td>-0.469890</td>\n      <td>0.244762</td>\n      <td>-0.965609</td>\n      <td>0.903664</td>\n      <td>-1.381732</td>\n      <td>-0.088104</td>\n      <td>1.322264</td>\n      <td>0.828097</td>\n      <td>-0.003086</td>\n    </tr>\n    <tr>\n      <th>4</th>\n      <td>-0.947252</td>\n      <td>-0.580225</td>\n      <td>-0.238451</td>\n      <td>-0.772781</td>\n      <td>-0.519120</td>\n      <td>0.086618</td>\n      <td>-0.926428</td>\n      <td>0.716079</td>\n      <td>-1.226437</td>\n      <td>-0.088104</td>\n      <td>1.135422</td>\n      <td>1.033119</td>\n      <td>1.231867</td>\n    </tr>\n    <tr>\n      <th>...</th>\n      <td>...</td>\n      <td>...</td>\n      <td>...</td>\n      <td>...</td>\n      <td>...</td>\n      <td>...</td>\n      <td>...</td>\n      <td>...</td>\n      <td>...</td>\n      <td>...</td>\n      <td>...</td>\n      <td>...</td>\n      <td>...</td>\n    </tr>\n    <tr>\n      <th>88847</th>\n      <td>-0.886170</td>\n      <td>-0.386542</td>\n      <td>-0.292596</td>\n      <td>-0.048277</td>\n      <td>-0.322201</td>\n      <td>-0.161893</td>\n      <td>-0.234223</td>\n      <td>0.160274</td>\n      <td>-0.871477</td>\n      <td>-0.088104</td>\n      <td>1.509107</td>\n      <td>-0.279022</td>\n      <td>-0.003086</td>\n    </tr>\n    <tr>\n      <th>88848</th>\n      <td>-0.931982</td>\n      <td>-0.505251</td>\n      <td>-0.319668</td>\n      <td>-0.467727</td>\n      <td>-0.420661</td>\n      <td>0.007546</td>\n      <td>-0.234223</td>\n      <td>0.160274</td>\n      <td>-0.871477</td>\n      <td>-0.088104</td>\n      <td>1.509107</td>\n      <td>-0.279022</td>\n      <td>1.231867</td>\n    </tr>\n    <tr>\n      <th>88849</th>\n      <td>-0.962522</td>\n      <td>-0.474012</td>\n      <td>-0.238451</td>\n      <td>-0.124541</td>\n      <td>-0.322201</td>\n      <td>-0.218373</td>\n      <td>-0.358297</td>\n      <td>0.139431</td>\n      <td>-1.037864</td>\n      <td>-0.088104</td>\n      <td>-1.106689</td>\n      <td>-0.238017</td>\n      <td>-1.238039</td>\n    </tr>\n    <tr>\n      <th>88850</th>\n      <td>-0.886170</td>\n      <td>-0.336559</td>\n      <td>-0.292596</td>\n      <td>0.256777</td>\n      <td>-5.218232</td>\n      <td>-0.421700</td>\n      <td>-0.358297</td>\n      <td>0.139431</td>\n      <td>-1.037864</td>\n      <td>-0.088104</td>\n      <td>-1.106689</td>\n      <td>-0.238017</td>\n      <td>-0.003086</td>\n    </tr>\n    <tr>\n      <th>88851</th>\n      <td>-0.916711</td>\n      <td>-0.530242</td>\n      <td>-0.319668</td>\n      <td>-0.315200</td>\n      <td>-0.322201</td>\n      <td>-0.105413</td>\n      <td>-0.358297</td>\n      <td>0.139431</td>\n      <td>-1.037864</td>\n      <td>-0.088104</td>\n      <td>-1.106689</td>\n      <td>-0.238017</td>\n      <td>1.231867</td>\n    </tr>\n  </tbody>\n</table>\n<p>88852 rows × 13 columns</p>\n</div>"
     },
     "execution_count": 10,
     "metadata": {},
     "output_type": "execute_result"
    }
   ],
   "source": [
    "from scipy.stats import zscore\n",
    "\n",
    "z=df_o.apply(zscore)\n",
    "z"
   ],
   "metadata": {
    "collapsed": false,
    "pycharm": {
     "name": "#%%\n"
    }
   }
  },
  {
   "cell_type": "code",
   "execution_count": 11,
   "outputs": [],
   "source": [
    "z=[z>3]"
   ],
   "metadata": {
    "collapsed": false,
    "pycharm": {
     "name": "#%%\n"
    }
   }
  },
  {
   "cell_type": "code",
   "execution_count": 12,
   "outputs": [
    {
     "data": {
      "text/plain": "[       PM2.5   PM10    SO2    NO2     CO     O3   TEMP   PRES   DEWP   RAIN  \\\n 0      False  False  False  False  False  False  False  False  False  False   \n 1      False  False  False  False  False  False  False  False  False  False   \n 2      False  False  False  False  False  False  False  False  False  False   \n 3      False  False  False  False  False  False  False  False  False  False   \n 4      False  False  False  False  False  False  False  False  False  False   \n ...      ...    ...    ...    ...    ...    ...    ...    ...    ...    ...   \n 88847  False  False  False  False  False  False  False  False  False  False   \n 88848  False  False  False  False  False  False  False  False  False  False   \n 88849  False  False  False  False  False  False  False  False  False  False   \n 88850  False  False  False  False  False  False  False  False  False  False   \n 88851  False  False  False  False  False  False  False  False  False  False   \n \n           wd   WSPM  station  \n 0      False  False    False  \n 1      False  False    False  \n 2      False  False    False  \n 3      False  False    False  \n 4      False  False    False  \n ...      ...    ...      ...  \n 88847  False  False    False  \n 88848  False  False    False  \n 88849  False  False    False  \n 88850  False  False    False  \n 88851  False  False    False  \n \n [88852 rows x 13 columns]]"
     },
     "execution_count": 12,
     "metadata": {},
     "output_type": "execute_result"
    }
   ],
   "source": [
    "z"
   ],
   "metadata": {
    "collapsed": false,
    "pycharm": {
     "name": "#%%\n"
    }
   }
  },
  {
   "cell_type": "code",
   "execution_count": 13,
   "outputs": [],
   "source": [
    "z = np.array(z)"
   ],
   "metadata": {
    "collapsed": false,
    "pycharm": {
     "name": "#%%\n"
    }
   }
  },
  {
   "cell_type": "code",
   "execution_count": 14,
   "outputs": [
    {
     "data": {
      "text/plain": "(88852, 13)"
     },
     "execution_count": 14,
     "metadata": {},
     "output_type": "execute_result"
    }
   ],
   "source": [
    "z = np.squeeze(z)\n",
    "\n",
    "z.shape"
   ],
   "metadata": {
    "collapsed": false,
    "pycharm": {
     "name": "#%%\n"
    }
   }
  },
  {
   "cell_type": "code",
   "execution_count": 19,
   "outputs": [
    {
     "data": {
      "text/plain": "array([False, False, False, ..., False, False, False])"
     },
     "execution_count": 19,
     "metadata": {},
     "output_type": "execute_result"
    }
   ],
   "source": [
    "np.any(z,axis=1)"
   ],
   "metadata": {
    "collapsed": false,
    "pycharm": {
     "name": "#%%\n"
    }
   }
  },
  {
   "cell_type": "code",
   "execution_count": 16,
   "outputs": [
    {
     "data": {
      "text/plain": "13171"
     },
     "execution_count": 16,
     "metadata": {},
     "output_type": "execute_result"
    }
   ],
   "source": [
    "np.sum(z.any(axis=1))"
   ],
   "metadata": {
    "collapsed": false,
    "pycharm": {
     "name": "#%%\n"
    }
   }
  },
  {
   "cell_type": "code",
   "execution_count": 18,
   "outputs": [
    {
     "data": {
      "text/plain": "array([[False, False, False, ..., False, False, False],\n       [False, False, False, ..., False, False, False],\n       [False, False, False, ..., False, False, False],\n       ...,\n       [False, False, False, ..., False, False, False],\n       [False, False, False, ..., False, False, False],\n       [False, False, False, ..., False, False, False]])"
     },
     "execution_count": 18,
     "metadata": {},
     "output_type": "execute_result"
    }
   ],
   "source": [
    "z"
   ],
   "metadata": {
    "collapsed": false,
    "pycharm": {
     "name": "#%%\n"
    }
   }
  },
  {
   "cell_type": "code",
   "execution_count": 23,
   "outputs": [
    {
     "name": "stdout",
     "output_type": "stream",
     "text": [
      "Common values:  12150\n",
      "Precision:  0.9224812087161187\n",
      "Recall:  0.48363983759254836\n",
      "F1-score  0.6345807327710025\n"
     ]
    }
   ],
   "source": [
    "z_indices = np.where(np.any(z,axis=1))[0]\n",
    "evaluate(z_indices)"
   ],
   "metadata": {
    "collapsed": false,
    "pycharm": {
     "name": "#%%\n"
    }
   }
  },
  {
   "cell_type": "code",
   "execution_count": null,
   "outputs": [],
   "source": [],
   "metadata": {
    "collapsed": false,
    "pycharm": {
     "name": "#%%\n"
    }
   }
  }
 ],
 "metadata": {
  "kernelspec": {
   "display_name": "Python 3",
   "language": "python",
   "name": "python3"
  },
  "language_info": {
   "codemirror_mode": {
    "name": "ipython",
    "version": 3
   },
   "file_extension": ".py",
   "mimetype": "text/x-python",
   "name": "python",
   "nbconvert_exporter": "python",
   "pygments_lexer": "ipython3",
   "version": "3.8.8"
  }
 },
 "nbformat": 4,
 "nbformat_minor": 5
}